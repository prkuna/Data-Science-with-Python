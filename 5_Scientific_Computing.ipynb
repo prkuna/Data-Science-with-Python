{
 "cells": [
  {
   "cell_type": "markdown",
   "id": "surrounded-steal",
   "metadata": {},
   "source": [
    "# [SciPy](https://www.scipy.org/)\n",
    "SciPy has built-in packages that help in handling the scientific domains.\n",
    "- Built-in mathematical libraries and functions\n",
    "- High-level commands for data manipulation and visualization\n",
    "- Efficient and fast data processing\n",
    "- Integrates well with multiple systems and environments\n",
    "- Large collection of sub-packages for different scientific domains\n",
    "- Simplifies scientific application development\n",
    "\n",
    "****\n",
    "\n",
    "Some widely used **SciPy Packages**\n",
    "- Integration\n",
    "- IO\n",
    "- Linear Algebra\n",
    "- Optimize\n",
    "- Statistics\n",
    "- Weave packages\n",
    "\n",
    "****\n",
    "\n",
    "### SciPy Sub-Package\n",
    "- **cluster** (Clustering algorithms)\n",
    "- **ndimage** (N-dimensional image processing)\n",
    "- **constants** (Physical and mathematical constant)\n",
    "- **odr** (Orthogonal distance regression)\n",
    "- **fftpack** (Fast Fourier Transform routines)\n",
    "- **optimize** (Optimization and root-finding routines)\n",
    "- **integrate** (Integration and ordinary differential equation solvers)\n",
    "- **signal** (Signal processing)\n",
    "- **Spatial** (Spatial data structures and algorithms)\n",
    "- **sparse** (Sparse matrices and associated routines)\n",
    "- **interpolate** (Interpolation and smoothing splines)\n",
    "- **weave** (C/C++ integration)\n",
    "- **IO** (Input and Output)\n",
    "- **stats** (Statistical distributions and functions)\n",
    "- **linalg** (Linear algebra)\n",
    "- **special** (Special functions)\n",
    "\n",
    "****"
   ]
  },
  {
   "cell_type": "markdown",
   "id": "active-sponsorship",
   "metadata": {},
   "source": [
    "#### SciPy Sub-Package: Integration\n",
    "This example shows how to perform quad integration."
   ]
  },
  {
   "cell_type": "code",
   "execution_count": 1,
   "id": "elegant-alliance",
   "metadata": {},
   "outputs": [],
   "source": [
    "#Import quad from integrate sub-package\n",
    "\n",
    "from scipy.integrate import quad"
   ]
  },
  {
   "cell_type": "code",
   "execution_count": 2,
   "id": "divine-sphere",
   "metadata": {},
   "outputs": [],
   "source": [
    "#Define function for integration of x\n",
    "\n",
    "def integrateFunction(x):\n",
    "    return x"
   ]
  },
  {
   "cell_type": "code",
   "execution_count": 3,
   "id": "atmospheric-glance",
   "metadata": {},
   "outputs": [
    {
     "data": {
      "text/plain": [
       "(0.5, 5.551115123125783e-15)"
      ]
     },
     "execution_count": 3,
     "metadata": {},
     "output_type": "execute_result"
    }
   ],
   "source": [
    "#Perform quad integration for function of x for limit 0 to 1\n",
    "\n",
    "quad(integrateFunction,0,1)"
   ]
  },
  {
   "cell_type": "code",
   "execution_count": 6,
   "id": "sharp-blair",
   "metadata": {},
   "outputs": [],
   "source": [
    "#Define function for ax + b\n",
    "\n",
    "def integrateFn(x,a,b):\n",
    "    return x*a+b"
   ]
  },
  {
   "cell_type": "code",
   "execution_count": 7,
   "id": "impressive-still",
   "metadata": {},
   "outputs": [],
   "source": [
    "#Declare value of a and b\n",
    "\n",
    "a=3\n",
    "b=2"
   ]
  },
  {
   "cell_type": "code",
   "execution_count": 8,
   "id": "danish-bahamas",
   "metadata": {},
   "outputs": [
    {
     "data": {
      "text/plain": [
       "(3.5, 3.885780586188048e-14)"
      ]
     },
     "execution_count": 8,
     "metadata": {},
     "output_type": "execute_result"
    }
   ],
   "source": [
    "#Perform quad integration and pass functions and arguments\n",
    "\n",
    "quad(integrateFn,0,1,args=(a,b))"
   ]
  },
  {
   "cell_type": "markdown",
   "id": "everyday-economy",
   "metadata": {},
   "source": [
    "This example shows you how to perform multiple integration."
   ]
  },
  {
   "cell_type": "code",
   "execution_count": 9,
   "id": "beginning-harris",
   "metadata": {},
   "outputs": [],
   "source": [
    "#Import integrate package sub-package\n",
    "\n",
    "import scipy.integrate as integrate"
   ]
  },
  {
   "cell_type": "code",
   "execution_count": 10,
   "id": "pointed-turtle",
   "metadata": {},
   "outputs": [
    {
     "data": {
      "text/plain": [
       "(3.0, 4.436070580899685e-14)"
      ]
     },
     "execution_count": 10,
     "metadata": {},
     "output_type": "execute_result"
    }
   ],
   "source": [
    "#Define function for x + y\n",
    "#Perform multiple integration using the lambda built-in function\n",
    "\n",
    "def f(x,y):\n",
    "    return x+y\n",
    "integrate.dblquad(f,0,1,lambda x:0,lambda x:2)"
   ]
  },
  {
   "cell_type": "markdown",
   "id": "mature-yesterday",
   "metadata": {},
   "source": [
    "### SciPy Sub-Package: Optimization\n",
    "Optimization is a process to improve performance of a system mathematically by fine-tuning the process parameters.\n",
    "\n",
    "SciPy provides several optimization algorithms, such as bfgs, Nelder-Mead simplex, Newton Conjugate Gradient, COBYLA, or SLSQP."
   ]
  },
  {
   "cell_type": "code",
   "execution_count": 11,
   "id": "military-speech",
   "metadata": {},
   "outputs": [],
   "source": [
    "#Import numpy and optimize from SciPy\n",
    "\n",
    "import numpy as np\n",
    "from scipy import optimize"
   ]
  },
  {
   "cell_type": "code",
   "execution_count": 12,
   "id": "certified-scientist",
   "metadata": {},
   "outputs": [],
   "source": [
    "#Define function for X^2 + 5 sin x\n",
    "\n",
    "def f(x):\n",
    "    return x**2 + 5*np.sin(x)"
   ]
  },
  {
   "cell_type": "code",
   "execution_count": 14,
   "id": "psychological-environment",
   "metadata": {},
   "outputs": [
    {
     "name": "stdout",
     "output_type": "stream",
     "text": [
      "Optimization terminated successfully.\n",
      "         Current function value: -3.246394\n",
      "         Iterations: 5\n",
      "         Function evaluations: 18\n",
      "         Gradient evaluations: 9\n"
     ]
    }
   ],
   "source": [
    "# Perform optimize minimize function using bfgs method and options\n",
    "\n",
    "minimaValue = optimize.minimize(f,x0=2,method='bfgs',options={'disp':True})"
   ]
  },
  {
   "cell_type": "code",
   "execution_count": 16,
   "id": "supposed-cement",
   "metadata": {},
   "outputs": [],
   "source": [
    "#Perform optimize minimize function using bfgs method and without options\n",
    "\n",
    "minimaValueWithoutOpt = optimize.minimize(f,x0=2,method='bfgs')"
   ]
  },
  {
   "cell_type": "code",
   "execution_count": 17,
   "id": "oriented-processing",
   "metadata": {},
   "outputs": [
    {
     "data": {
      "text/plain": [
       "      fun: -3.2463942726915214\n",
       " hess_inv: array([[0.15445818]])\n",
       "      jac: array([-4.76837158e-07])\n",
       "  message: 'Optimization terminated successfully.'\n",
       "     nfev: 18\n",
       "      nit: 5\n",
       "     njev: 9\n",
       "   status: 0\n",
       "  success: True\n",
       "        x: array([-1.11051058])"
      ]
     },
     "execution_count": 17,
     "metadata": {},
     "output_type": "execute_result"
    }
   ],
   "source": [
    "minimaValueWithoutOpt"
   ]
  },
  {
   "cell_type": "markdown",
   "id": "commercial-sitting",
   "metadata": {},
   "source": [
    "-"
   ]
  },
  {
   "cell_type": "code",
   "execution_count": 18,
   "id": "manufactured-requirement",
   "metadata": {},
   "outputs": [],
   "source": [
    "#Define function for X + 3.5 Cos x\n",
    "\n",
    "import numpy as np\n",
    "from scipy.optimize import root\n",
    "\n",
    "def rootfunc(x):\n",
    "    return x + 3.5 * np.cos(x)"
   ]
  },
  {
   "cell_type": "code",
   "execution_count": 19,
   "id": "expected-indonesian",
   "metadata": {},
   "outputs": [],
   "source": [
    "#Pass x value in argument for root\n",
    "\n",
    "rootValue = root(rootfunc, 0.3)"
   ]
  },
  {
   "cell_type": "code",
   "execution_count": 20,
   "id": "industrial-globe",
   "metadata": {},
   "outputs": [
    {
     "data": {
      "text/plain": [
       "    fjac: array([[-1.]])\n",
       "     fun: array([0.])\n",
       " message: 'The solution converged.'\n",
       "    nfev: 14\n",
       "     qtf: array([-8.32889313e-13])\n",
       "       r: array([-4.28198145])\n",
       "  status: 1\n",
       " success: True\n",
       "       x: array([-1.21597614])"
      ]
     },
     "execution_count": 20,
     "metadata": {},
     "output_type": "execute_result"
    }
   ],
   "source": [
    "rootValue\n",
    "\n",
    "#Function value and array values"
   ]
  },
  {
   "cell_type": "markdown",
   "id": "expected-recruitment",
   "metadata": {},
   "source": [
    "### SciPy Sub-Package: Linear Algebra\n",
    "SciPy provides rapid linear algebra capabilities and contains advanced algebraic functions."
   ]
  },
  {
   "cell_type": "markdown",
   "id": "legendary-publication",
   "metadata": {},
   "source": [
    "#### Inverse of matrix\n",
    "This function is used to compute the inverse of the given matrix."
   ]
  },
  {
   "cell_type": "code",
   "execution_count": 1,
   "id": "moving-passage",
   "metadata": {},
   "outputs": [],
   "source": [
    "#Import linalg\n",
    "\n",
    "import numpy as np\n",
    "from scipy import linalg"
   ]
  },
  {
   "cell_type": "code",
   "execution_count": 2,
   "id": "associate-whale",
   "metadata": {},
   "outputs": [
    {
     "data": {
      "text/plain": [
       "array([[10,  6],\n",
       "       [ 2,  7]])"
      ]
     },
     "execution_count": 2,
     "metadata": {},
     "output_type": "execute_result"
    }
   ],
   "source": [
    "#Define a numpy matrix or array\n",
    "\n",
    "matrix = np.array([[10,6],[2,7]])\n",
    "matrix"
   ]
  },
  {
   "cell_type": "code",
   "execution_count": 3,
   "id": "trained-indianapolis",
   "metadata": {},
   "outputs": [
    {
     "data": {
      "text/plain": [
       "numpy.ndarray"
      ]
     },
     "execution_count": 3,
     "metadata": {},
     "output_type": "execute_result"
    }
   ],
   "source": [
    "type(matrix)"
   ]
  },
  {
   "cell_type": "code",
   "execution_count": 4,
   "id": "considered-spray",
   "metadata": {},
   "outputs": [
    {
     "data": {
      "text/plain": [
       "array([[ 0.12068966, -0.10344828],\n",
       "       [-0.03448276,  0.17241379]])"
      ]
     },
     "execution_count": 4,
     "metadata": {},
     "output_type": "execute_result"
    }
   ],
   "source": [
    "#Use inv function to inverse the matrix\n",
    "\n",
    "linalg.inv(matrix)"
   ]
  },
  {
   "cell_type": "markdown",
   "id": "lyric-advice",
   "metadata": {},
   "source": [
    "#### Finding Determinant\n",
    "With this function you can compute the value of the determinant for the given matrix."
   ]
  },
  {
   "cell_type": "code",
   "execution_count": 5,
   "id": "intended-syracuse",
   "metadata": {},
   "outputs": [
    {
     "data": {
      "text/plain": [
       "58.0"
      ]
     },
     "execution_count": 5,
     "metadata": {},
     "output_type": "execute_result"
    }
   ],
   "source": [
    "#Use det function to find the determinant value of the matrix\n",
    "\n",
    "linalg.det(matrix)"
   ]
  },
  {
   "cell_type": "markdown",
   "id": "detected-uniform",
   "metadata": {},
   "source": [
    "#### Solve Linear systems"
   ]
  },
  {
   "cell_type": "markdown",
   "id": "irish-recycling",
   "metadata": {},
   "source": [
    "**Linear equations**:\n",
    "\n",
    "2x + 3 y + z = 21\n",
    "\n",
    "-x + 5y + 4z = 9\n",
    "\n",
    "3x + 2y + 9z = 6"
   ]
  },
  {
   "cell_type": "code",
   "execution_count": 6,
   "id": "requested-guard",
   "metadata": {},
   "outputs": [],
   "source": [
    "#Define a numpy matrix or array\n",
    "\n",
    "numArray = np.array([[2,3,1],[-1,5,4],[3,2,9]])"
   ]
  },
  {
   "cell_type": "code",
   "execution_count": 7,
   "id": "distant-cookbook",
   "metadata": {},
   "outputs": [],
   "source": [
    "numArrValue = np.array([21,9,6])"
   ]
  },
  {
   "cell_type": "code",
   "execution_count": 8,
   "id": "vital-vacuum",
   "metadata": {},
   "outputs": [
    {
     "data": {
      "text/plain": [
       "array([ 4.95,  4.35, -1.95])"
      ]
     },
     "execution_count": 8,
     "metadata": {},
     "output_type": "execute_result"
    }
   ],
   "source": [
    "#Use solve method\n",
    "\n",
    "linalg.solve(numArray,numArrValue)"
   ]
  },
  {
   "cell_type": "markdown",
   "id": "martial-florist",
   "metadata": {},
   "source": [
    "#### Single Value Decomposition (SVD)"
   ]
  },
  {
   "cell_type": "code",
   "execution_count": 9,
   "id": "hindu-savings",
   "metadata": {},
   "outputs": [],
   "source": [
    "#Define matrix\n",
    "\n",
    "numSvdArr = np.array([[3,5,1],[9,5,7]])"
   ]
  },
  {
   "cell_type": "code",
   "execution_count": 10,
   "id": "graduate-agency",
   "metadata": {},
   "outputs": [
    {
     "data": {
      "text/plain": [
       "(2, 3)"
      ]
     },
     "execution_count": 10,
     "metadata": {},
     "output_type": "execute_result"
    }
   ],
   "source": [
    "#Find shape of ndarray which is 2X3 matrix\n",
    "\n",
    "numSvdArr.shape"
   ]
  },
  {
   "cell_type": "code",
   "execution_count": 11,
   "id": "leading-harvest",
   "metadata": {},
   "outputs": [
    {
     "data": {
      "text/plain": [
       "(array([[-0.37879831,  0.92547925],\n",
       "        [-0.92547925, -0.37879831]]),\n",
       " array([13.38464336,  3.29413449]),\n",
       " array([[-0.7072066 , -0.4872291 , -0.51231496],\n",
       "        [-0.19208294,  0.82977932, -0.52399467],\n",
       "        [-0.68041382,  0.27216553,  0.68041382]]))"
      ]
     },
     "execution_count": 11,
     "metadata": {},
     "output_type": "execute_result"
    }
   ],
   "source": [
    "#Use svd function\n",
    "\n",
    "linalg.svd(numSvdArr)"
   ]
  },
  {
   "cell_type": "markdown",
   "id": "pediatric-entity",
   "metadata": {},
   "source": [
    "### SciPy Sub-Package: Statistics"
   ]
  },
  {
   "cell_type": "markdown",
   "id": "corporate-efficiency",
   "metadata": {},
   "source": [
    "#### Perform Normal Distribution"
   ]
  },
  {
   "cell_type": "code",
   "execution_count": 13,
   "id": "dominant-coordinate",
   "metadata": {},
   "outputs": [],
   "source": [
    "#Import norm for normal distribution\n",
    "\n",
    "from scipy.stats import norm"
   ]
  },
  {
   "cell_type": "code",
   "execution_count": 14,
   "id": "pointed-printer",
   "metadata": {},
   "outputs": [
    {
     "data": {
      "text/plain": [
       "array([-0.12191519, -0.31497165, -0.87501177, -0.0922033 ,  0.26173803,\n",
       "       -1.15893338, -0.36514345, -0.20933872,  0.02434207, -1.20970977])"
      ]
     },
     "execution_count": 14,
     "metadata": {},
     "output_type": "execute_result"
    }
   ],
   "source": [
    "norm.rvs(loc=0, scale=1, size=10)   #rvs for Random variables"
   ]
  },
  {
   "cell_type": "code",
   "execution_count": 15,
   "id": "generic-cocktail",
   "metadata": {},
   "outputs": [
    {
     "data": {
      "text/plain": [
       "0.9772498680518208"
      ]
     },
     "execution_count": 15,
     "metadata": {},
     "output_type": "execute_result"
    }
   ],
   "source": [
    "norm.cdf(5, loc=1, scale=2)   #cdf for Cumulative Distribution Function"
   ]
  },
  {
   "cell_type": "code",
   "execution_count": 16,
   "id": "representative-amazon",
   "metadata": {},
   "outputs": [
    {
     "data": {
      "text/plain": [
       "1.0279773571668917e-18"
      ]
     },
     "execution_count": 16,
     "metadata": {},
     "output_type": "execute_result"
    }
   ],
   "source": [
    "norm.pdf(9, loc=0,scale=1)    #pdf for Probability Density Function for random distribution"
   ]
  },
  {
   "cell_type": "markdown",
   "id": "colonial-spectacular",
   "metadata": {},
   "source": [
    "**loc** and **scale** are used to adjust the location and scale of the data distribution."
   ]
  },
  {
   "cell_type": "markdown",
   "id": "residential-banks",
   "metadata": {},
   "source": [
    "### SciPy Sub-Package: Weave\n",
    "The weave package provides ways to modify and extend any supported extension libraries."
   ]
  },
  {
   "cell_type": "code",
   "execution_count": null,
   "id": "qualified-accommodation",
   "metadata": {},
   "outputs": [],
   "source": []
  }
 ],
 "metadata": {
  "kernelspec": {
   "display_name": "Python 3",
   "language": "python",
   "name": "python3"
  },
  "language_info": {
   "codemirror_mode": {
    "name": "ipython",
    "version": 3
   },
   "file_extension": ".py",
   "mimetype": "text/x-python",
   "name": "python",
   "nbconvert_exporter": "python",
   "pygments_lexer": "ipython3",
   "version": "3.7.10"
  }
 },
 "nbformat": 4,
 "nbformat_minor": 5
}
