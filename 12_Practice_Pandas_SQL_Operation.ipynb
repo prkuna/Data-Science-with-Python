{
 "cells": [
  {
   "cell_type": "markdown",
   "id": "inside-dividend",
   "metadata": {},
   "source": [
    "# Practice_Pandas_SQL_Operation"
   ]
  },
  {
   "cell_type": "code",
   "execution_count": 1,
   "id": "collectible-receipt",
   "metadata": {},
   "outputs": [],
   "source": [
    "#import required libraries\n",
    "\n",
    "import pandas as pd"
   ]
  },
  {
   "cell_type": "code",
   "execution_count": 2,
   "id": "alert-northwest",
   "metadata": {},
   "outputs": [],
   "source": [
    "#import sqllite\n",
    "\n",
    "import sqlite3"
   ]
  },
  {
   "cell_type": "code",
   "execution_count": 3,
   "id": "legislative-present",
   "metadata": {},
   "outputs": [],
   "source": [
    "#create SQL table\n",
    "\n",
    "create_table = \"\"\"\n",
    "CREATE TABLE student_score\n",
    "(Id INTEGER, Name VARCHAR(20),Math REAL,\n",
    "Science REAL);\n",
    "\"\"\""
   ]
  },
  {
   "cell_type": "code",
   "execution_count": 4,
   "id": "still-willow",
   "metadata": {},
   "outputs": [],
   "source": [
    "#execute the SQL statement\n",
    "\n",
    "executeSQL = sqlite3.connect(':memory:')\n",
    "executeSQL.execute(create_table)\n",
    "executeSQL.commit()"
   ]
  },
  {
   "cell_type": "code",
   "execution_count": 5,
   "id": "respected-shoot",
   "metadata": {},
   "outputs": [],
   "source": [
    "#prepare a SQL query\n",
    "\n",
    "SQL_query = executeSQL.execute('select * from student_score')"
   ]
  },
  {
   "cell_type": "code",
   "execution_count": 6,
   "id": "casual-isaac",
   "metadata": {},
   "outputs": [],
   "source": [
    "#fetch result from the SQLlite database\n",
    "\n",
    "resulset = SQL_query.fetchall()"
   ]
  },
  {
   "cell_type": "code",
   "execution_count": 7,
   "id": "sought-nancy",
   "metadata": {},
   "outputs": [
    {
     "data": {
      "text/plain": [
       "[]"
      ]
     },
     "execution_count": 7,
     "metadata": {},
     "output_type": "execute_result"
    }
   ],
   "source": [
    "#view result empty data\n",
    "resulset"
   ]
  },
  {
   "cell_type": "code",
   "execution_count": 8,
   "id": "random-temple",
   "metadata": {},
   "outputs": [],
   "source": [
    "#prepare records to be inserted into SQL table through SQL statemnt\n",
    "\n",
    "insertSQL = [(10,'Jack',85,92),\n",
    "            (29,'Tom',73,89),\n",
    "            (65,'Ram',65.5,77),\n",
    "            (5,'Steve',55,91)]"
   ]
  },
  {
   "cell_type": "code",
   "execution_count": 9,
   "id": "muslim-whole",
   "metadata": {},
   "outputs": [],
   "source": [
    "#insert records into SQL table through SQL statement\n",
    "\n",
    "insert_statement = \"Insert into student_score values(?,?,?,?)\"\n",
    "executeSQL.executemany(insert_statement,insertSQL)\n",
    "executeSQL.commit()"
   ]
  },
  {
   "cell_type": "code",
   "execution_count": 10,
   "id": "specific-bunny",
   "metadata": {},
   "outputs": [],
   "source": [
    "#prepare SQL query\n",
    "\n",
    "SQL_query = executeSQL.execute(\"select * from student_score\")"
   ]
  },
  {
   "cell_type": "code",
   "execution_count": 11,
   "id": "loved-franchise",
   "metadata": {},
   "outputs": [],
   "source": [
    "#fetch the resltset for the query\n",
    "\n",
    "resulset = SQL_query.fetchall()"
   ]
  },
  {
   "cell_type": "code",
   "execution_count": 12,
   "id": "nuclear-member",
   "metadata": {},
   "outputs": [
    {
     "data": {
      "text/plain": [
       "[(10, 'Jack', 85.0, 92.0),\n",
       " (29, 'Tom', 73.0, 89.0),\n",
       " (65, 'Ram', 65.5, 77.0),\n",
       " (5, 'Steve', 55.0, 91.0)]"
      ]
     },
     "execution_count": 12,
     "metadata": {},
     "output_type": "execute_result"
    }
   ],
   "source": [
    "#view the resulset\n",
    "\n",
    "resulset"
   ]
  },
  {
   "cell_type": "code",
   "execution_count": 15,
   "id": "designed-vacation",
   "metadata": {},
   "outputs": [
    {
     "ename": "TypeError",
     "evalue": "'zip' object is not subscriptable",
     "output_type": "error",
     "traceback": [
      "\u001b[1;31m---------------------------------------------------------------------------\u001b[0m",
      "\u001b[1;31mTypeError\u001b[0m                                 Traceback (most recent call last)",
      "\u001b[1;32m<ipython-input-15-7362ebcf4acb>\u001b[0m in \u001b[0;36m<module>\u001b[1;34m\u001b[0m\n\u001b[0;32m      1\u001b[0m \u001b[1;31m#put the records together in dataframe\u001b[0m\u001b[1;33m\u001b[0m\u001b[1;33m\u001b[0m\u001b[1;33m\u001b[0m\u001b[0m\n\u001b[0;32m      2\u001b[0m \u001b[1;33m\u001b[0m\u001b[0m\n\u001b[1;32m----> 3\u001b[1;33m \u001b[0mdf_student_recors\u001b[0m \u001b[1;33m=\u001b[0m \u001b[0mpd\u001b[0m\u001b[1;33m.\u001b[0m\u001b[0mDataFrame\u001b[0m\u001b[1;33m(\u001b[0m\u001b[0mresulset\u001b[0m\u001b[1;33m,\u001b[0m\u001b[0mcolumns\u001b[0m\u001b[1;33m=\u001b[0m\u001b[0mzip\u001b[0m\u001b[1;33m(\u001b[0m\u001b[1;33m*\u001b[0m\u001b[0mSQL_query\u001b[0m\u001b[1;33m.\u001b[0m\u001b[0mdescription\u001b[0m\u001b[1;33m)\u001b[0m\u001b[1;33m[\u001b[0m\u001b[1;36m0\u001b[0m\u001b[1;33m]\u001b[0m\u001b[1;33m)\u001b[0m\u001b[1;33m\u001b[0m\u001b[1;33m\u001b[0m\u001b[0m\n\u001b[0m",
      "\u001b[1;31mTypeError\u001b[0m: 'zip' object is not subscriptable"
     ]
    }
   ],
   "source": [
    "#put the records together in dataframe\n",
    "\n",
    "df_student_records = pd.DataFrame(resulset,columns=zip(*SQL_query.description)[0])"
   ]
  },
  {
   "cell_type": "code",
   "execution_count": 14,
   "id": "arctic-money",
   "metadata": {},
   "outputs": [
    {
     "ename": "NameError",
     "evalue": "name 'df_student_records' is not defined",
     "output_type": "error",
     "traceback": [
      "\u001b[1;31m---------------------------------------------------------------------------\u001b[0m",
      "\u001b[1;31mNameError\u001b[0m                                 Traceback (most recent call last)",
      "\u001b[1;32m<ipython-input-14-f252f952bbaa>\u001b[0m in \u001b[0;36m<module>\u001b[1;34m\u001b[0m\n\u001b[1;32m----> 1\u001b[1;33m \u001b[0mdf_student_records\u001b[0m\u001b[1;33m\u001b[0m\u001b[1;33m\u001b[0m\u001b[0m\n\u001b[0m",
      "\u001b[1;31mNameError\u001b[0m: name 'df_student_records' is not defined"
     ]
    }
   ],
   "source": [
    "df_student_records"
   ]
  },
  {
   "cell_type": "code",
   "execution_count": null,
   "id": "prerequisite-january",
   "metadata": {},
   "outputs": [],
   "source": []
  }
 ],
 "metadata": {
  "kernelspec": {
   "display_name": "Python 3",
   "language": "python",
   "name": "python3"
  },
  "language_info": {
   "codemirror_mode": {
    "name": "ipython",
    "version": 3
   },
   "file_extension": ".py",
   "mimetype": "text/x-python",
   "name": "python",
   "nbconvert_exporter": "python",
   "pygments_lexer": "ipython3",
   "version": "3.7.10"
  }
 },
 "nbformat": 4,
 "nbformat_minor": 5
}
