{
 "cells": [
  {
   "cell_type": "markdown",
   "id": "efficient-trauma",
   "metadata": {},
   "source": [
    "## Python ML - Principal Component Analysis (PCA)"
   ]
  },
  {
   "cell_type": "code",
   "execution_count": 3,
   "id": "beneficial-spending",
   "metadata": {},
   "outputs": [],
   "source": [
    "#import required libraries for  PCA\n",
    "from sklearn.decomposition import PCA\n",
    "#import the dataset\n",
    "from sklearn.datasets import make_blobs"
   ]
  },
  {
   "cell_type": "code",
   "execution_count": 4,
   "id": "czech-evening",
   "metadata": {},
   "outputs": [],
   "source": [
    "#define sample and rndom state\n",
    "n_sample = 20\n",
    "random_state = 20"
   ]
  },
  {
   "cell_type": "code",
   "execution_count": 5,
   "id": "responsible-thumbnail",
   "metadata": {},
   "outputs": [],
   "source": [
    "#Generate the dataset with 10 features(dimension)\n",
    "x,y=make_blobs(n_samples=n_sample,n_features=10,random_state=None)"
   ]
  },
  {
   "cell_type": "code",
   "execution_count": 6,
   "id": "pacific-design",
   "metadata": {},
   "outputs": [
    {
     "data": {
      "text/plain": [
       "(20, 10)"
      ]
     },
     "execution_count": 6,
     "metadata": {},
     "output_type": "execute_result"
    }
   ],
   "source": [
    "#view the shape of the dataset\n",
    "x.shape"
   ]
  },
  {
   "cell_type": "code",
   "execution_count": 7,
   "id": "alternate-arrangement",
   "metadata": {},
   "outputs": [],
   "source": [
    "#define the PCA estimator with the number of reduced components\n",
    "pca = PCA(n_components=3)"
   ]
  },
  {
   "cell_type": "code",
   "execution_count": 10,
   "id": "touched-convention",
   "metadata": {},
   "outputs": [
    {
     "name": "stdout",
     "output_type": "stream",
     "text": [
      "[0.81857409 0.16086794 0.00637676]\n"
     ]
    }
   ],
   "source": [
    "#fit the data into PCA estimator\n",
    "pca.fit(x)\n",
    "print (pca.explained_variance_ratio_)"
   ]
  },
  {
   "cell_type": "code",
   "execution_count": 12,
   "id": "computational-wagon",
   "metadata": {},
   "outputs": [
    {
     "name": "stdout",
     "output_type": "stream",
     "text": [
      "[-0.04773785 -0.21643286  0.01901706  0.43505434 -0.43949148 -0.22459987\n",
      " -0.38726012  0.51349516  0.15839931 -0.28090588]\n"
     ]
    }
   ],
   "source": [
    "#print the first PCA component\n",
    "first_pca=pca.components_[0]\n",
    "print(first_pca)"
   ]
  },
  {
   "cell_type": "code",
   "execution_count": 13,
   "id": "offshore-venue",
   "metadata": {},
   "outputs": [],
   "source": [
    "#transform the fitted data using transform method\n",
    "pca_reduced=pca.transform(x)"
   ]
  },
  {
   "cell_type": "code",
   "execution_count": 14,
   "id": "academic-harvey",
   "metadata": {},
   "outputs": [
    {
     "data": {
      "text/plain": [
       "(20, 3)"
      ]
     },
     "execution_count": 14,
     "metadata": {},
     "output_type": "execute_result"
    }
   ],
   "source": [
    "#view the reduced shape (lower dimension)\n",
    "pca_reduced.shape"
   ]
  },
  {
   "cell_type": "code",
   "execution_count": null,
   "id": "improved-george",
   "metadata": {},
   "outputs": [],
   "source": []
  }
 ],
 "metadata": {
  "kernelspec": {
   "display_name": "Python 3",
   "language": "python",
   "name": "python3"
  },
  "language_info": {
   "codemirror_mode": {
    "name": "ipython",
    "version": 3
   },
   "file_extension": ".py",
   "mimetype": "text/x-python",
   "name": "python",
   "nbconvert_exporter": "python",
   "pygments_lexer": "ipython3",
   "version": "3.7.10"
  }
 },
 "nbformat": 4,
 "nbformat_minor": 5
}
