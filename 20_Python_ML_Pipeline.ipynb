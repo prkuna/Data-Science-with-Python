{
 "cells": [
  {
   "cell_type": "markdown",
   "id": "wrong-foster",
   "metadata": {},
   "source": [
    "## Python ML - Pipeline Creation"
   ]
  },
  {
   "cell_type": "code",
   "execution_count": 1,
   "id": "improving-riding",
   "metadata": {},
   "outputs": [],
   "source": [
    "#import the required libraries and models (estimators)\n",
    "#import pipeline class\n",
    "from sklearn.pipeline import Pipeline\n",
    "#import logistic regression estimators\n",
    "from sklearn.linear_model import LogisticRegression \n",
    "#import linear regression estimators\n",
    "from sklearn.linear_model import LinearRegression\n",
    "#import PCA estimators for dimensionality reduction\n",
    "from sklearn.decomposition import PCA"
   ]
  },
  {
   "cell_type": "code",
   "execution_count": 2,
   "id": "technological-sydney",
   "metadata": {},
   "outputs": [],
   "source": [
    "#chain the estimators together\n",
    "estimator = [('dim_reduction', PCA()),('logres_model', LogisticRegression()),('linear_model', LinearRegression())]"
   ]
  },
  {
   "cell_type": "code",
   "execution_count": 9,
   "id": "functioning-baghdad",
   "metadata": {},
   "outputs": [
    {
     "ename": "NameError",
     "evalue": "name 'cachedir' is not defined",
     "output_type": "error",
     "traceback": [
      "\u001b[1;31m---------------------------------------------------------------------------\u001b[0m",
      "\u001b[1;31mNameError\u001b[0m                                 Traceback (most recent call last)",
      "\u001b[1;32m<ipython-input-9-5c6f5d675a8e>\u001b[0m in \u001b[0;36m<module>\u001b[1;34m\u001b[0m\n\u001b[0;32m      1\u001b[0m \u001b[1;31m#put them into a pipeline object\u001b[0m\u001b[1;33m\u001b[0m\u001b[1;33m\u001b[0m\u001b[1;33m\u001b[0m\u001b[0m\n\u001b[1;32m----> 2\u001b[1;33m \u001b[0mpipeline_estimator\u001b[0m \u001b[1;33m=\u001b[0m \u001b[0mPipeline\u001b[0m\u001b[1;33m(\u001b[0m\u001b[0mestimator\u001b[0m\u001b[1;33m,\u001b[0m \u001b[0mmemory\u001b[0m\u001b[1;33m=\u001b[0m\u001b[0mcachedir\u001b[0m\u001b[1;33m)\u001b[0m\u001b[1;33m\u001b[0m\u001b[1;33m\u001b[0m\u001b[0m\n\u001b[0m",
      "\u001b[1;31mNameError\u001b[0m: name 'cachedir' is not defined"
     ]
    }
   ],
   "source": [
    "#put them into a pipeline object\n",
    "pipeline_estimator = Pipeline(estimator, memory=cachedir)"
   ]
  },
  {
   "cell_type": "code",
   "execution_count": 4,
   "id": "athletic-century",
   "metadata": {},
   "outputs": [],
   "source": [
    "#check the chain of estimators"
   ]
  },
  {
   "cell_type": "code",
   "execution_count": 5,
   "id": "native-ideal",
   "metadata": {},
   "outputs": [],
   "source": [
    "#view first step"
   ]
  },
  {
   "cell_type": "code",
   "execution_count": 6,
   "id": "warming-blink",
   "metadata": {},
   "outputs": [],
   "source": [
    "#view second step"
   ]
  },
  {
   "cell_type": "code",
   "execution_count": 7,
   "id": "aggregate-lithuania",
   "metadata": {},
   "outputs": [],
   "source": [
    "#view all the steps in pipeline"
   ]
  },
  {
   "cell_type": "code",
   "execution_count": null,
   "id": "baking-flood",
   "metadata": {},
   "outputs": [],
   "source": []
  },
  {
   "cell_type": "code",
   "execution_count": null,
   "id": "powered-input",
   "metadata": {},
   "outputs": [],
   "source": []
  },
  {
   "cell_type": "code",
   "execution_count": null,
   "id": "naughty-census",
   "metadata": {},
   "outputs": [],
   "source": []
  }
 ],
 "metadata": {
  "kernelspec": {
   "display_name": "Python 3",
   "language": "python",
   "name": "python3"
  },
  "language_info": {
   "codemirror_mode": {
    "name": "ipython",
    "version": 3
   },
   "file_extension": ".py",
   "mimetype": "text/x-python",
   "name": "python",
   "nbconvert_exporter": "python",
   "pygments_lexer": "ipython3",
   "version": "3.7.10"
  }
 },
 "nbformat": 4,
 "nbformat_minor": 5
}
