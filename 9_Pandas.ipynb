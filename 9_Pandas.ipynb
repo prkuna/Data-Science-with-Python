{
 "cells": [
  {
   "cell_type": "markdown",
   "id": "junior-newman",
   "metadata": {},
   "source": [
    "# [Pandas](https://pandas.pydata.org/)"
   ]
  },
  {
   "cell_type": "markdown",
   "id": "amateur-hearts",
   "metadata": {},
   "source": [
    "**Data structures handling major use cases**"
   ]
  },
  {
   "cell_type": "markdown",
   "id": "agreed-tribute",
   "metadata": {},
   "source": [
    "### Features of Pandas\n",
    "- Powerful data structure\n",
    "- Fast and efficient data wrangling\n",
    "- Easy data aggregation and transformation\n",
    "- Tools for reading and writing data\n",
    "- Intelligent and automated data alignment\n",
    "- High performance merging and joining of data sets"
   ]
  },
  {
   "cell_type": "markdown",
   "id": "available-charm",
   "metadata": {},
   "source": [
    "### Data Structures:\n",
    "**Series**\n",
    "- One-dimensional labeled array\n",
    "- Supports multiple data types\n",
    "\n",
    "**Data Frame**\n",
    "- Two-dimensional labeled array\n",
    "- Supports multiple data types\n",
    "- Input can be a series\n",
    "- Input can be another DataFrame\n",
    "\n",
    "**Panel**\n",
    "- Three-dimensional labeled array\n",
    "- Supports multiple data types\n",
    "- Items 🡪 axis 0\n",
    "- Major axis 🡪 rows\n",
    "- Minor axis🡪 columns\n",
    "\n",
    "**Panel 4D (Experimental)**\n",
    "- Four-dimensional labeled array\n",
    "- Supports multiple data types\n",
    "- Labels 🡪 axis 0\n",
    "- Items 🡪 axis 1\n",
    "- Major axis 🡪 rows\n",
    "- Minor axis🡪 columns"
   ]
  },
  {
   "cell_type": "markdown",
   "id": "everyday-necessity",
   "metadata": {},
   "source": [
    "#### Creating Series from a List"
   ]
  },
  {
   "cell_type": "code",
   "execution_count": 1,
   "id": "portuguese-appraisal",
   "metadata": {},
   "outputs": [],
   "source": [
    "#Import libraries\n",
    "\n",
    "import numpy as np\n",
    "import pandas as pd"
   ]
  },
  {
   "cell_type": "code",
   "execution_count": 2,
   "id": "legendary-venice",
   "metadata": {},
   "outputs": [],
   "source": [
    "#Pass list as an argument\n",
    "\n",
    "first_series = pd.Series(list('abcdef'))"
   ]
  },
  {
   "cell_type": "code",
   "execution_count": 3,
   "id": "aggressive-animation",
   "metadata": {},
   "outputs": [
    {
     "name": "stdout",
     "output_type": "stream",
     "text": [
      "0    a\n",
      "1    b\n",
      "2    c\n",
      "3    d\n",
      "4    e\n",
      "5    f\n",
      "dtype: object\n"
     ]
    }
   ],
   "source": [
    "print(first_series)"
   ]
  },
  {
   "cell_type": "markdown",
   "id": "executed-number",
   "metadata": {},
   "source": [
    "above indexing or data alignment is done automatically"
   ]
  },
  {
   "cell_type": "markdown",
   "id": "printable-leave",
   "metadata": {},
   "source": [
    "#### Creating Series from an ndarray"
   ]
  },
  {
   "cell_type": "code",
   "execution_count": 4,
   "id": "configured-lancaster",
   "metadata": {},
   "outputs": [],
   "source": [
    "#list of countries with ndarray\n",
    "\n",
    "np_country = np.array(['Luxembourg','Norway','Japan','Switzerland','United States','Qatar','Iceland','Sweden','Singapore','Denmark'])"
   ]
  },
  {
   "cell_type": "code",
   "execution_count": 5,
   "id": "annoying-slave",
   "metadata": {},
   "outputs": [],
   "source": [
    "#Pass ndarray as an argument\n",
    "\n",
    "s_country = pd.Series(np_country)"
   ]
  },
  {
   "cell_type": "code",
   "execution_count": 6,
   "id": "innovative-interface",
   "metadata": {},
   "outputs": [
    {
     "name": "stdout",
     "output_type": "stream",
     "text": [
      "0       Luxembourg\n",
      "1           Norway\n",
      "2            Japan\n",
      "3      Switzerland\n",
      "4    United States\n",
      "5            Qatar\n",
      "6          Iceland\n",
      "7           Sweden\n",
      "8        Singapore\n",
      "9          Denmark\n",
      "dtype: object\n"
     ]
    }
   ],
   "source": [
    "print(s_country)"
   ]
  },
  {
   "cell_type": "markdown",
   "id": "orange-alpha",
   "metadata": {},
   "source": [
    "#### Creating Series from dict"
   ]
  },
  {
   "cell_type": "code",
   "execution_count": 7,
   "id": "qualified-pride",
   "metadata": {},
   "outputs": [],
   "source": [
    "#Evaluate countries and their corresponding GDP per capita and print them as series"
   ]
  },
  {
   "cell_type": "code",
   "execution_count": 8,
   "id": "theoretical-breakfast",
   "metadata": {},
   "outputs": [],
   "source": [
    "dict_country_gdp = pd.Series([52056.01781,40258.80862,40034.85063,39578.07441,39170.41371,37958.23146,37691.02733,36152.66676,34706.19047,33630.24604,33529.83052,30860.12808],index=['Luxembourg','Macao, China','Norway','Japan','Switzerland','Hong Kong, China','United States','Qatar','Iceland','Sweden','Singapore','Denmark'])"
   ]
  },
  {
   "cell_type": "code",
   "execution_count": 9,
   "id": "sensitive-webmaster",
   "metadata": {},
   "outputs": [
    {
     "name": "stdout",
     "output_type": "stream",
     "text": [
      "Luxembourg          52056.01781\n",
      "Macao, China        40258.80862\n",
      "Norway              40034.85063\n",
      "Japan               39578.07441\n",
      "Switzerland         39170.41371\n",
      "Hong Kong, China    37958.23146\n",
      "United States       37691.02733\n",
      "Qatar               36152.66676\n",
      "Iceland             34706.19047\n",
      "Sweden              33630.24604\n",
      "Singapore           33529.83052\n",
      "Denmark             30860.12808\n",
      "dtype: float64\n"
     ]
    }
   ],
   "source": [
    "print(dict_country_gdp)"
   ]
  },
  {
   "cell_type": "markdown",
   "id": "decent-princess",
   "metadata": {},
   "source": [
    "#### Creating Series from Scalar"
   ]
  },
  {
   "cell_type": "code",
   "execution_count": 10,
   "id": "arbitrary-quarter",
   "metadata": {},
   "outputs": [],
   "source": [
    "#print Series with scalar input"
   ]
  },
  {
   "cell_type": "code",
   "execution_count": 11,
   "id": "elect-contribution",
   "metadata": {},
   "outputs": [],
   "source": [
    "scalar_series = pd.Series(5,index=['a','b','c','d','e'])"
   ]
  },
  {
   "cell_type": "code",
   "execution_count": 12,
   "id": "scientific-structure",
   "metadata": {},
   "outputs": [
    {
     "data": {
      "text/plain": [
       "a    5\n",
       "b    5\n",
       "c    5\n",
       "d    5\n",
       "e    5\n",
       "dtype: int64"
      ]
     },
     "execution_count": 12,
     "metadata": {},
     "output_type": "execute_result"
    }
   ],
   "source": [
    "scalar_series"
   ]
  },
  {
   "cell_type": "markdown",
   "id": "wired-wagner",
   "metadata": {},
   "source": [
    "### Accessing Elements in Series\n",
    "Data can be accessed through different functions like loc, iloc by passing data element position or index range."
   ]
  },
  {
   "cell_type": "code",
   "execution_count": 13,
   "id": "tested-fountain",
   "metadata": {},
   "outputs": [
    {
     "data": {
      "text/plain": [
       "52056.01781"
      ]
     },
     "execution_count": 13,
     "metadata": {},
     "output_type": "execute_result"
    }
   ],
   "source": [
    "# access elements in the series\n",
    "\n",
    "dict_country_gdp[0]"
   ]
  },
  {
   "cell_type": "code",
   "execution_count": 14,
   "id": "geographic-arabic",
   "metadata": {},
   "outputs": [
    {
     "data": {
      "text/plain": [
       "Luxembourg      52056.01781\n",
       "Macao, China    40258.80862\n",
       "Norway          40034.85063\n",
       "Japan           39578.07441\n",
       "Switzerland     39170.41371\n",
       "dtype: float64"
      ]
     },
     "execution_count": 14,
     "metadata": {},
     "output_type": "execute_result"
    }
   ],
   "source": [
    "# access first 5 countries from the series\n",
    "\n",
    "dict_country_gdp[0:5]"
   ]
  },
  {
   "cell_type": "code",
   "execution_count": 15,
   "id": "organized-gateway",
   "metadata": {},
   "outputs": [
    {
     "data": {
      "text/plain": [
       "37691.02733"
      ]
     },
     "execution_count": 15,
     "metadata": {},
     "output_type": "execute_result"
    }
   ],
   "source": [
    "# look up a country by name or index\n",
    "\n",
    "dict_country_gdp.loc['United States']"
   ]
  },
  {
   "cell_type": "code",
   "execution_count": 16,
   "id": "settled-oxygen",
   "metadata": {},
   "outputs": [
    {
     "data": {
      "text/plain": [
       "52056.01781"
      ]
     },
     "execution_count": 16,
     "metadata": {},
     "output_type": "execute_result"
    }
   ],
   "source": [
    "# look up by position\n",
    "\n",
    "dict_country_gdp.iloc[0]"
   ]
  },
  {
   "cell_type": "markdown",
   "id": "aboriginal-specific",
   "metadata": {},
   "source": [
    "### Vectorizing Operations in Series\n",
    "Vectorized operations are performed by the data element’s position."
   ]
  },
  {
   "cell_type": "code",
   "execution_count": 17,
   "id": "productive-tsunami",
   "metadata": {},
   "outputs": [],
   "source": [
    "first_vector_series = pd.Series([1,2,3,4],index=['a','b','c','d'])\n",
    "second_vector_series = pd.Series([10,20,30,40],index=['a','b','c','d'])"
   ]
  },
  {
   "cell_type": "code",
   "execution_count": 18,
   "id": "legitimate-garbage",
   "metadata": {},
   "outputs": [
    {
     "data": {
      "text/plain": [
       "a    11\n",
       "b    22\n",
       "c    33\n",
       "d    44\n",
       "dtype: int64"
      ]
     },
     "execution_count": 18,
     "metadata": {},
     "output_type": "execute_result"
    }
   ],
   "source": [
    "first_vector_series + second_vector_series"
   ]
  },
  {
   "cell_type": "code",
   "execution_count": 19,
   "id": "answering-shadow",
   "metadata": {},
   "outputs": [],
   "source": [
    "second_vector_series = pd.Series([10,20,30,40],index=['a','b','c','d'])"
   ]
  },
  {
   "cell_type": "code",
   "execution_count": 20,
   "id": "right-mobile",
   "metadata": {},
   "outputs": [
    {
     "data": {
      "text/plain": [
       "a    11\n",
       "b    22\n",
       "c    33\n",
       "d    44\n",
       "dtype: int64"
      ]
     },
     "execution_count": 20,
     "metadata": {},
     "output_type": "execute_result"
    }
   ],
   "source": [
    "first_vector_series + second_vector_series"
   ]
  },
  {
   "cell_type": "markdown",
   "id": "exempt-craft",
   "metadata": {},
   "source": [
    "### DataFrame"
   ]
  },
  {
   "cell_type": "markdown",
   "id": "settled-forty",
   "metadata": {},
   "source": [
    "#### Creating DataFrame from Lists"
   ]
  },
  {
   "cell_type": "code",
   "execution_count": 21,
   "id": "finished-gamma",
   "metadata": {},
   "outputs": [],
   "source": [
    "import pandas as pd"
   ]
  },
  {
   "cell_type": "code",
   "execution_count": 22,
   "id": "proper-architect",
   "metadata": {},
   "outputs": [],
   "source": [
    "#list five olympics data: place, year and number of coimtries participated\n",
    "\n",
    "olympic_data_list = {'HostCity':['London','Beijing','Athens','Sydney','Atlanta'],\n",
    "                    'Year':[2012,2008,2004,2000,1996],\n",
    "                    'No. of Patricipating Countries':[205,204,201,200,197]}"
   ]
  },
  {
   "cell_type": "code",
   "execution_count": 23,
   "id": "sharing-exhibit",
   "metadata": {},
   "outputs": [],
   "source": [
    "#Pass the list to the DataFrame\n",
    "\n",
    "df_olympic_data = pd.DataFrame(olympic_data_list)"
   ]
  },
  {
   "cell_type": "code",
   "execution_count": 24,
   "id": "cooked-banana",
   "metadata": {},
   "outputs": [
    {
     "data": {
      "text/html": [
       "<div>\n",
       "<style scoped>\n",
       "    .dataframe tbody tr th:only-of-type {\n",
       "        vertical-align: middle;\n",
       "    }\n",
       "\n",
       "    .dataframe tbody tr th {\n",
       "        vertical-align: top;\n",
       "    }\n",
       "\n",
       "    .dataframe thead th {\n",
       "        text-align: right;\n",
       "    }\n",
       "</style>\n",
       "<table border=\"1\" class=\"dataframe\">\n",
       "  <thead>\n",
       "    <tr style=\"text-align: right;\">\n",
       "      <th></th>\n",
       "      <th>HostCity</th>\n",
       "      <th>Year</th>\n",
       "      <th>No. of Patricipating Countries</th>\n",
       "    </tr>\n",
       "  </thead>\n",
       "  <tbody>\n",
       "    <tr>\n",
       "      <th>0</th>\n",
       "      <td>London</td>\n",
       "      <td>2012</td>\n",
       "      <td>205</td>\n",
       "    </tr>\n",
       "    <tr>\n",
       "      <th>1</th>\n",
       "      <td>Beijing</td>\n",
       "      <td>2008</td>\n",
       "      <td>204</td>\n",
       "    </tr>\n",
       "    <tr>\n",
       "      <th>2</th>\n",
       "      <td>Athens</td>\n",
       "      <td>2004</td>\n",
       "      <td>201</td>\n",
       "    </tr>\n",
       "    <tr>\n",
       "      <th>3</th>\n",
       "      <td>Sydney</td>\n",
       "      <td>2000</td>\n",
       "      <td>200</td>\n",
       "    </tr>\n",
       "    <tr>\n",
       "      <th>4</th>\n",
       "      <td>Atlanta</td>\n",
       "      <td>1996</td>\n",
       "      <td>197</td>\n",
       "    </tr>\n",
       "  </tbody>\n",
       "</table>\n",
       "</div>"
      ],
      "text/plain": [
       "  HostCity  Year  No. of Patricipating Countries\n",
       "0   London  2012                             205\n",
       "1  Beijing  2008                             204\n",
       "2   Athens  2004                             201\n",
       "3   Sydney  2000                             200\n",
       "4  Atlanta  1996                             197"
      ]
     },
     "execution_count": 24,
     "metadata": {},
     "output_type": "execute_result"
    }
   ],
   "source": [
    "df_olympic_data"
   ]
  },
  {
   "cell_type": "markdown",
   "id": "quality-bahamas",
   "metadata": {},
   "source": [
    "#### Viewing DataFrame\n",
    "can view a DataFrame by referring to the column name or with the describe function."
   ]
  },
  {
   "cell_type": "code",
   "execution_count": 25,
   "id": "surgical-aaron",
   "metadata": {},
   "outputs": [
    {
     "data": {
      "text/plain": [
       "0     London\n",
       "1    Beijing\n",
       "2     Athens\n",
       "3     Sydney\n",
       "4    Atlanta\n",
       "Name: HostCity, dtype: object"
      ]
     },
     "execution_count": 25,
     "metadata": {},
     "output_type": "execute_result"
    }
   ],
   "source": [
    "#select by city name\n",
    "\n",
    "df_olympic_data.HostCity"
   ]
  },
  {
   "cell_type": "code",
   "execution_count": 26,
   "id": "rotary-tsunami",
   "metadata": {},
   "outputs": [
    {
     "data": {
      "text/plain": [
       "<bound method NDFrame.describe of   HostCity  Year  No. of Patricipating Countries\n",
       "0   London  2012                             205\n",
       "1  Beijing  2008                             204\n",
       "2   Athens  2004                             201\n",
       "3   Sydney  2000                             200\n",
       "4  Atlanta  1996                             197>"
      ]
     },
     "execution_count": 26,
     "metadata": {},
     "output_type": "execute_result"
    }
   ],
   "source": [
    "#use describe function to display the content\n",
    "\n",
    "df_olympic_data.describe"
   ]
  },
  {
   "cell_type": "markdown",
   "id": "iraqi-blanket",
   "metadata": {},
   "source": [
    "#### Creating DataFrame from dict of Series"
   ]
  },
  {
   "cell_type": "code",
   "execution_count": 27,
   "id": "polish-baptist",
   "metadata": {},
   "outputs": [],
   "source": [
    "olympic_series_participation = pd.Series([205,204,201,200,197],index=[2012,2008,2004,2000,1996])\n",
    "olympic_series_country = pd.Series(['London','Beijing','Athens','Sydney','Atlanta'],index=[2012,2008,2004,2000,1996])"
   ]
  },
  {
   "cell_type": "code",
   "execution_count": 28,
   "id": "professional-studio",
   "metadata": {},
   "outputs": [],
   "source": [
    "df_olympic_series = pd.DataFrame({'No. of Patricipating Countries':olympic_series_participation,\n",
    "                                 'Host Cities':olympic_series_country})"
   ]
  },
  {
   "cell_type": "code",
   "execution_count": 29,
   "id": "welcome-world",
   "metadata": {},
   "outputs": [
    {
     "data": {
      "text/html": [
       "<div>\n",
       "<style scoped>\n",
       "    .dataframe tbody tr th:only-of-type {\n",
       "        vertical-align: middle;\n",
       "    }\n",
       "\n",
       "    .dataframe tbody tr th {\n",
       "        vertical-align: top;\n",
       "    }\n",
       "\n",
       "    .dataframe thead th {\n",
       "        text-align: right;\n",
       "    }\n",
       "</style>\n",
       "<table border=\"1\" class=\"dataframe\">\n",
       "  <thead>\n",
       "    <tr style=\"text-align: right;\">\n",
       "      <th></th>\n",
       "      <th>No. of Patricipating Countries</th>\n",
       "      <th>Host Cities</th>\n",
       "    </tr>\n",
       "  </thead>\n",
       "  <tbody>\n",
       "    <tr>\n",
       "      <th>2012</th>\n",
       "      <td>205</td>\n",
       "      <td>London</td>\n",
       "    </tr>\n",
       "    <tr>\n",
       "      <th>2008</th>\n",
       "      <td>204</td>\n",
       "      <td>Beijing</td>\n",
       "    </tr>\n",
       "    <tr>\n",
       "      <th>2004</th>\n",
       "      <td>201</td>\n",
       "      <td>Athens</td>\n",
       "    </tr>\n",
       "    <tr>\n",
       "      <th>2000</th>\n",
       "      <td>200</td>\n",
       "      <td>Sydney</td>\n",
       "    </tr>\n",
       "    <tr>\n",
       "      <th>1996</th>\n",
       "      <td>197</td>\n",
       "      <td>Atlanta</td>\n",
       "    </tr>\n",
       "  </tbody>\n",
       "</table>\n",
       "</div>"
      ],
      "text/plain": [
       "      No. of Patricipating Countries Host Cities\n",
       "2012                             205      London\n",
       "2008                             204     Beijing\n",
       "2004                             201      Athens\n",
       "2000                             200      Sydney\n",
       "1996                             197     Atlanta"
      ]
     },
     "execution_count": 29,
     "metadata": {},
     "output_type": "execute_result"
    }
   ],
   "source": [
    "df_olympic_series"
   ]
  },
  {
   "cell_type": "markdown",
   "id": "covered-advance",
   "metadata": {},
   "source": [
    "#### Creating DataFrame from ndarray"
   ]
  },
  {
   "cell_type": "code",
   "execution_count": 30,
   "id": "silver-pharmacology",
   "metadata": {},
   "outputs": [],
   "source": [
    "import numpy as np"
   ]
  },
  {
   "cell_type": "code",
   "execution_count": 31,
   "id": "phantom-robert",
   "metadata": {},
   "outputs": [],
   "source": [
    "np_array = np.array([2012,2008,2004,2006])  #Create a ndarray with years\n",
    "dict_ndarray = {'Year':np_array}  #Create a dict with the ndarray"
   ]
  },
  {
   "cell_type": "code",
   "execution_count": 32,
   "id": "identical-diabetes",
   "metadata": {},
   "outputs": [],
   "source": [
    "df_ndarray = pd.DataFrame(dict_ndarray)   #Pass this dict to a new DataFrame"
   ]
  },
  {
   "cell_type": "code",
   "execution_count": 33,
   "id": "blocked-bandwidth",
   "metadata": {},
   "outputs": [
    {
     "data": {
      "text/html": [
       "<div>\n",
       "<style scoped>\n",
       "    .dataframe tbody tr th:only-of-type {\n",
       "        vertical-align: middle;\n",
       "    }\n",
       "\n",
       "    .dataframe tbody tr th {\n",
       "        vertical-align: top;\n",
       "    }\n",
       "\n",
       "    .dataframe thead th {\n",
       "        text-align: right;\n",
       "    }\n",
       "</style>\n",
       "<table border=\"1\" class=\"dataframe\">\n",
       "  <thead>\n",
       "    <tr style=\"text-align: right;\">\n",
       "      <th></th>\n",
       "      <th>Year</th>\n",
       "    </tr>\n",
       "  </thead>\n",
       "  <tbody>\n",
       "    <tr>\n",
       "      <th>0</th>\n",
       "      <td>2012</td>\n",
       "    </tr>\n",
       "    <tr>\n",
       "      <th>1</th>\n",
       "      <td>2008</td>\n",
       "    </tr>\n",
       "    <tr>\n",
       "      <th>2</th>\n",
       "      <td>2004</td>\n",
       "    </tr>\n",
       "    <tr>\n",
       "      <th>3</th>\n",
       "      <td>2006</td>\n",
       "    </tr>\n",
       "  </tbody>\n",
       "</table>\n",
       "</div>"
      ],
      "text/plain": [
       "   Year\n",
       "0  2012\n",
       "1  2008\n",
       "2  2004\n",
       "3  2006"
      ]
     },
     "execution_count": 33,
     "metadata": {},
     "output_type": "execute_result"
    }
   ],
   "source": [
    "df_ndarray"
   ]
  },
  {
   "cell_type": "markdown",
   "id": "solid-nashville",
   "metadata": {},
   "source": [
    "#### Creating DataFrame from DataFrame Object"
   ]
  },
  {
   "cell_type": "code",
   "execution_count": 34,
   "id": "driving-consciousness",
   "metadata": {},
   "outputs": [],
   "source": [
    "df_from_df = pd.DataFrame(df_olympic_series)"
   ]
  },
  {
   "cell_type": "code",
   "execution_count": 35,
   "id": "rubber-pitch",
   "metadata": {},
   "outputs": [
    {
     "data": {
      "text/html": [
       "<div>\n",
       "<style scoped>\n",
       "    .dataframe tbody tr th:only-of-type {\n",
       "        vertical-align: middle;\n",
       "    }\n",
       "\n",
       "    .dataframe tbody tr th {\n",
       "        vertical-align: top;\n",
       "    }\n",
       "\n",
       "    .dataframe thead th {\n",
       "        text-align: right;\n",
       "    }\n",
       "</style>\n",
       "<table border=\"1\" class=\"dataframe\">\n",
       "  <thead>\n",
       "    <tr style=\"text-align: right;\">\n",
       "      <th></th>\n",
       "      <th>No. of Patricipating Countries</th>\n",
       "      <th>Host Cities</th>\n",
       "    </tr>\n",
       "  </thead>\n",
       "  <tbody>\n",
       "    <tr>\n",
       "      <th>2012</th>\n",
       "      <td>205</td>\n",
       "      <td>London</td>\n",
       "    </tr>\n",
       "    <tr>\n",
       "      <th>2008</th>\n",
       "      <td>204</td>\n",
       "      <td>Beijing</td>\n",
       "    </tr>\n",
       "    <tr>\n",
       "      <th>2004</th>\n",
       "      <td>201</td>\n",
       "      <td>Athens</td>\n",
       "    </tr>\n",
       "    <tr>\n",
       "      <th>2000</th>\n",
       "      <td>200</td>\n",
       "      <td>Sydney</td>\n",
       "    </tr>\n",
       "    <tr>\n",
       "      <th>1996</th>\n",
       "      <td>197</td>\n",
       "      <td>Atlanta</td>\n",
       "    </tr>\n",
       "  </tbody>\n",
       "</table>\n",
       "</div>"
      ],
      "text/plain": [
       "      No. of Patricipating Countries Host Cities\n",
       "2012                             205      London\n",
       "2008                             204     Beijing\n",
       "2004                             201      Athens\n",
       "2000                             200      Sydney\n",
       "1996                             197     Atlanta"
      ]
     },
     "execution_count": 35,
     "metadata": {},
     "output_type": "execute_result"
    }
   ],
   "source": [
    "df_from_df"
   ]
  },
  {
   "cell_type": "markdown",
   "id": "determined-intake",
   "metadata": {},
   "source": [
    "***"
   ]
  },
  {
   "cell_type": "markdown",
   "id": "announced-occasions",
   "metadata": {},
   "source": [
    "## Handling Missing Values\n",
    "It’s difficult to operate a dataset when it has missing values or uncommon indices."
   ]
  },
  {
   "cell_type": "code",
   "execution_count": 36,
   "id": "compound-participation",
   "metadata": {},
   "outputs": [],
   "source": [
    "import pandas as pd"
   ]
  },
  {
   "cell_type": "code",
   "execution_count": 37,
   "id": "touched-plenty",
   "metadata": {},
   "outputs": [],
   "source": [
    "#declare first series\n",
    "\n",
    "first_series = pd.Series([1,2,3,4,5],index=['a','b','c','d','e'])"
   ]
  },
  {
   "cell_type": "code",
   "execution_count": 38,
   "id": "better-bloom",
   "metadata": {},
   "outputs": [],
   "source": [
    "##declare second series\n",
    "\n",
    "second_series = pd.Series([10,20,30,40,50],index=['c','e','f','g','h'])"
   ]
  },
  {
   "cell_type": "code",
   "execution_count": 39,
   "id": "jewish-arabic",
   "metadata": {},
   "outputs": [],
   "source": [
    "sum_of_series = first_series+second_series"
   ]
  },
  {
   "cell_type": "code",
   "execution_count": 40,
   "id": "duplicate-tanzania",
   "metadata": {},
   "outputs": [
    {
     "data": {
      "text/plain": [
       "a     NaN\n",
       "b     NaN\n",
       "c    13.0\n",
       "d     NaN\n",
       "e    25.0\n",
       "f     NaN\n",
       "g     NaN\n",
       "h     NaN\n",
       "dtype: float64"
      ]
     },
     "execution_count": 40,
     "metadata": {},
     "output_type": "execute_result"
    }
   ],
   "source": [
    "sum_of_series"
   ]
  },
  {
   "cell_type": "code",
   "execution_count": 41,
   "id": "boring-coordinate",
   "metadata": {},
   "outputs": [],
   "source": [
    "#drop NaN (Not a Number) values from dataset\n",
    "\n",
    "dropna_s = sum_of_series.dropna()"
   ]
  },
  {
   "cell_type": "code",
   "execution_count": 42,
   "id": "square-broadway",
   "metadata": {},
   "outputs": [
    {
     "data": {
      "text/plain": [
       "c    13.0\n",
       "e    25.0\n",
       "dtype: float64"
      ]
     },
     "execution_count": 42,
     "metadata": {},
     "output_type": "execute_result"
    }
   ],
   "source": [
    "dropna_s"
   ]
  },
  {
   "cell_type": "code",
   "execution_count": 43,
   "id": "light-istanbul",
   "metadata": {},
   "outputs": [],
   "source": [
    "#fill NaN values with Zeroes (0)\n",
    "\n",
    "fillna_s = sum_of_series.fillna(0)"
   ]
  },
  {
   "cell_type": "code",
   "execution_count": 44,
   "id": "logical-exhibition",
   "metadata": {},
   "outputs": [
    {
     "data": {
      "text/plain": [
       "a     0.0\n",
       "b     0.0\n",
       "c    13.0\n",
       "d     0.0\n",
       "e    25.0\n",
       "f     0.0\n",
       "g     0.0\n",
       "h     0.0\n",
       "dtype: float64"
      ]
     },
     "execution_count": 44,
     "metadata": {},
     "output_type": "execute_result"
    }
   ],
   "source": [
    "fillna_s"
   ]
  },
  {
   "cell_type": "code",
   "execution_count": 45,
   "id": "lined-documentary",
   "metadata": {},
   "outputs": [],
   "source": [
    "#fill values with zeroes before performing addition operation from missing indices\n",
    "\n",
    "fill_NaN_with_zeroes_before_sum = first_series.add(second_series,fill_value=0)"
   ]
  },
  {
   "cell_type": "code",
   "execution_count": 46,
   "id": "digital-apparatus",
   "metadata": {},
   "outputs": [
    {
     "data": {
      "text/plain": [
       "a     1.0\n",
       "b     2.0\n",
       "c    13.0\n",
       "d     4.0\n",
       "e    25.0\n",
       "f    30.0\n",
       "g    40.0\n",
       "h    50.0\n",
       "dtype: float64"
      ]
     },
     "execution_count": 46,
     "metadata": {},
     "output_type": "execute_result"
    }
   ],
   "source": [
    "fill_NaN_with_zeroes_before_sum"
   ]
  },
  {
   "cell_type": "markdown",
   "id": "immediate-wagner",
   "metadata": {},
   "source": [
    "## Data Operation\n",
    "Data operation can be performed through various built-in methods for faster data processing."
   ]
  },
  {
   "cell_type": "code",
   "execution_count": 47,
   "id": "provincial-warning",
   "metadata": {},
   "outputs": [],
   "source": [
    "import pandas as pd"
   ]
  },
  {
   "cell_type": "code",
   "execution_count": 48,
   "id": "applicable-reputation",
   "metadata": {},
   "outputs": [],
   "source": [
    "#declare movie rating dataframe: ratings from 1 to 5 (star ratings(*))\n",
    "\n",
    "df_movie_rating = pd.DataFrame({'Movie 1':[5,4,3,3,2,1],\n",
    "                               'Movie 2':[4,5,2,3,4,2]},\n",
    "                               index=['Tom','Jeff','Peter','Ram','Ted','Paul'])"
   ]
  },
  {
   "cell_type": "code",
   "execution_count": 49,
   "id": "funky-mainstream",
   "metadata": {},
   "outputs": [
    {
     "data": {
      "text/html": [
       "<div>\n",
       "<style scoped>\n",
       "    .dataframe tbody tr th:only-of-type {\n",
       "        vertical-align: middle;\n",
       "    }\n",
       "\n",
       "    .dataframe tbody tr th {\n",
       "        vertical-align: top;\n",
       "    }\n",
       "\n",
       "    .dataframe thead th {\n",
       "        text-align: right;\n",
       "    }\n",
       "</style>\n",
       "<table border=\"1\" class=\"dataframe\">\n",
       "  <thead>\n",
       "    <tr style=\"text-align: right;\">\n",
       "      <th></th>\n",
       "      <th>Movie 1</th>\n",
       "      <th>Movie 2</th>\n",
       "    </tr>\n",
       "  </thead>\n",
       "  <tbody>\n",
       "    <tr>\n",
       "      <th>Tom</th>\n",
       "      <td>5</td>\n",
       "      <td>4</td>\n",
       "    </tr>\n",
       "    <tr>\n",
       "      <th>Jeff</th>\n",
       "      <td>4</td>\n",
       "      <td>5</td>\n",
       "    </tr>\n",
       "    <tr>\n",
       "      <th>Peter</th>\n",
       "      <td>3</td>\n",
       "      <td>2</td>\n",
       "    </tr>\n",
       "    <tr>\n",
       "      <th>Ram</th>\n",
       "      <td>3</td>\n",
       "      <td>3</td>\n",
       "    </tr>\n",
       "    <tr>\n",
       "      <th>Ted</th>\n",
       "      <td>2</td>\n",
       "      <td>4</td>\n",
       "    </tr>\n",
       "    <tr>\n",
       "      <th>Paul</th>\n",
       "      <td>1</td>\n",
       "      <td>2</td>\n",
       "    </tr>\n",
       "  </tbody>\n",
       "</table>\n",
       "</div>"
      ],
      "text/plain": [
       "       Movie 1  Movie 2\n",
       "Tom          5        4\n",
       "Jeff         4        5\n",
       "Peter        3        2\n",
       "Ram          3        3\n",
       "Ted          2        4\n",
       "Paul         1        2"
      ]
     },
     "execution_count": 49,
     "metadata": {},
     "output_type": "execute_result"
    }
   ],
   "source": [
    "df_movie_rating"
   ]
  },
  {
   "cell_type": "markdown",
   "id": "academic-halloween",
   "metadata": {},
   "source": [
    "While performing data operation, custom functions can be applied using the **applymap** method."
   ]
  },
  {
   "cell_type": "code",
   "execution_count": 50,
   "id": "variable-finder",
   "metadata": {},
   "outputs": [],
   "source": [
    "#declare a custom function\n",
    "\n",
    "def movie_grade(rating):\n",
    "    if rating == 5:\n",
    "        return 'A'\n",
    "    if rating == 4:\n",
    "        return 'B'\n",
    "    if rating == 3:\n",
    "        return 'C'\n",
    "    else:\n",
    "        return 'F'"
   ]
  },
  {
   "cell_type": "code",
   "execution_count": 51,
   "id": "divine-passion",
   "metadata": {},
   "outputs": [
    {
     "name": "stdout",
     "output_type": "stream",
     "text": [
      "A\n"
     ]
    }
   ],
   "source": [
    "#test the rating number as function parameter\n",
    "\n",
    "print(movie_grade(5))"
   ]
  },
  {
   "cell_type": "code",
   "execution_count": 52,
   "id": "marine-conspiracy",
   "metadata": {},
   "outputs": [
    {
     "data": {
      "text/html": [
       "<div>\n",
       "<style scoped>\n",
       "    .dataframe tbody tr th:only-of-type {\n",
       "        vertical-align: middle;\n",
       "    }\n",
       "\n",
       "    .dataframe tbody tr th {\n",
       "        vertical-align: top;\n",
       "    }\n",
       "\n",
       "    .dataframe thead th {\n",
       "        text-align: right;\n",
       "    }\n",
       "</style>\n",
       "<table border=\"1\" class=\"dataframe\">\n",
       "  <thead>\n",
       "    <tr style=\"text-align: right;\">\n",
       "      <th></th>\n",
       "      <th>Movie 1</th>\n",
       "      <th>Movie 2</th>\n",
       "    </tr>\n",
       "  </thead>\n",
       "  <tbody>\n",
       "    <tr>\n",
       "      <th>Tom</th>\n",
       "      <td>A</td>\n",
       "      <td>B</td>\n",
       "    </tr>\n",
       "    <tr>\n",
       "      <th>Jeff</th>\n",
       "      <td>B</td>\n",
       "      <td>A</td>\n",
       "    </tr>\n",
       "    <tr>\n",
       "      <th>Peter</th>\n",
       "      <td>C</td>\n",
       "      <td>F</td>\n",
       "    </tr>\n",
       "    <tr>\n",
       "      <th>Ram</th>\n",
       "      <td>C</td>\n",
       "      <td>C</td>\n",
       "    </tr>\n",
       "    <tr>\n",
       "      <th>Ted</th>\n",
       "      <td>F</td>\n",
       "      <td>B</td>\n",
       "    </tr>\n",
       "    <tr>\n",
       "      <th>Paul</th>\n",
       "      <td>F</td>\n",
       "      <td>F</td>\n",
       "    </tr>\n",
       "  </tbody>\n",
       "</table>\n",
       "</div>"
      ],
      "text/plain": [
       "      Movie 1 Movie 2\n",
       "Tom         A       B\n",
       "Jeff        B       A\n",
       "Peter       C       F\n",
       "Ram         C       C\n",
       "Ted         F       B\n",
       "Paul        F       F"
      ]
     },
     "execution_count": 52,
     "metadata": {},
     "output_type": "execute_result"
    }
   ],
   "source": [
    "#Apply the function to the DataFrame\n",
    "\n",
    "df_movie_rating.applymap(movie_grade)"
   ]
  },
  {
   "cell_type": "markdown",
   "id": "immune-saying",
   "metadata": {},
   "source": [
    "### Data Operation with Statistical Functions"
   ]
  },
  {
   "cell_type": "markdown",
   "id": "applicable-petroleum",
   "metadata": {},
   "source": [
    "##### Example"
   ]
  },
  {
   "cell_type": "code",
   "execution_count": 53,
   "id": "educated-involvement",
   "metadata": {},
   "outputs": [],
   "source": [
    "df_test_score = pd.DataFrame({'Test 1':[95,84,73,88,82,61],\n",
    "                             'Test 2':[74,85,82,73,77,79]},\n",
    "                            index=['Jack','Lewis','Patrick','Rich','Kelly','Paula'])"
   ]
  },
  {
   "cell_type": "code",
   "execution_count": 54,
   "id": "bearing-split",
   "metadata": {},
   "outputs": [
    {
     "data": {
      "text/plain": [
       "Test 1    95\n",
       "Test 2    85\n",
       "dtype: int64"
      ]
     },
     "execution_count": 54,
     "metadata": {},
     "output_type": "execute_result"
    }
   ],
   "source": [
    "#Apply the max function to find the maximum score\n",
    "\n",
    "df_test_score.max()"
   ]
  },
  {
   "cell_type": "code",
   "execution_count": 55,
   "id": "broad-being",
   "metadata": {},
   "outputs": [
    {
     "data": {
      "text/plain": [
       "Test 1    80.500000\n",
       "Test 2    78.333333\n",
       "dtype: float64"
      ]
     },
     "execution_count": 55,
     "metadata": {},
     "output_type": "execute_result"
    }
   ],
   "source": [
    "#Apply the mean function to find the average score\n",
    "\n",
    "df_test_score.mean()"
   ]
  },
  {
   "cell_type": "code",
   "execution_count": 56,
   "id": "crazy-guide",
   "metadata": {},
   "outputs": [
    {
     "data": {
      "text/plain": [
       "Test 1    11.979149\n",
       "Test 2     4.633213\n",
       "dtype: float64"
      ]
     },
     "execution_count": 56,
     "metadata": {},
     "output_type": "execute_result"
    }
   ],
   "source": [
    "#Apply the std function to find the standard deviation for both the tests\n",
    "\n",
    "df_test_score.std()"
   ]
  },
  {
   "cell_type": "markdown",
   "id": "infinite-camera",
   "metadata": {},
   "source": [
    "### Data Operation Using Groupby"
   ]
  },
  {
   "cell_type": "markdown",
   "id": "sorted-magazine",
   "metadata": {},
   "source": [
    "##### Example"
   ]
  },
  {
   "cell_type": "code",
   "execution_count": 57,
   "id": "threaded-premises",
   "metadata": {},
   "outputs": [],
   "source": [
    "#Create a DataFrame with first and last name as former presidents\n",
    "\n",
    "df_president_name = pd.DataFrame({'First':['George','Bill','Ronald','Jimmy','George'],\n",
    "                                 'Last':['Bush','Clinton','Regan','Carter','Washington']})"
   ]
  },
  {
   "cell_type": "code",
   "execution_count": 58,
   "id": "ordered-pitch",
   "metadata": {},
   "outputs": [
    {
     "data": {
      "text/html": [
       "<div>\n",
       "<style scoped>\n",
       "    .dataframe tbody tr th:only-of-type {\n",
       "        vertical-align: middle;\n",
       "    }\n",
       "\n",
       "    .dataframe tbody tr th {\n",
       "        vertical-align: top;\n",
       "    }\n",
       "\n",
       "    .dataframe thead th {\n",
       "        text-align: right;\n",
       "    }\n",
       "</style>\n",
       "<table border=\"1\" class=\"dataframe\">\n",
       "  <thead>\n",
       "    <tr style=\"text-align: right;\">\n",
       "      <th></th>\n",
       "      <th>First</th>\n",
       "      <th>Last</th>\n",
       "    </tr>\n",
       "  </thead>\n",
       "  <tbody>\n",
       "    <tr>\n",
       "      <th>0</th>\n",
       "      <td>George</td>\n",
       "      <td>Bush</td>\n",
       "    </tr>\n",
       "    <tr>\n",
       "      <th>1</th>\n",
       "      <td>Bill</td>\n",
       "      <td>Clinton</td>\n",
       "    </tr>\n",
       "    <tr>\n",
       "      <th>2</th>\n",
       "      <td>Ronald</td>\n",
       "      <td>Regan</td>\n",
       "    </tr>\n",
       "    <tr>\n",
       "      <th>3</th>\n",
       "      <td>Jimmy</td>\n",
       "      <td>Carter</td>\n",
       "    </tr>\n",
       "    <tr>\n",
       "      <th>4</th>\n",
       "      <td>George</td>\n",
       "      <td>Washington</td>\n",
       "    </tr>\n",
       "  </tbody>\n",
       "</table>\n",
       "</div>"
      ],
      "text/plain": [
       "    First        Last\n",
       "0  George        Bush\n",
       "1    Bill     Clinton\n",
       "2  Ronald       Regan\n",
       "3   Jimmy      Carter\n",
       "4  George  Washington"
      ]
     },
     "execution_count": 58,
     "metadata": {},
     "output_type": "execute_result"
    }
   ],
   "source": [
    "df_president_name"
   ]
  },
  {
   "cell_type": "code",
   "execution_count": 59,
   "id": "heated-haiti",
   "metadata": {},
   "outputs": [],
   "source": [
    "#Group the DataFrame with the first name\n",
    "\n",
    "grouped = df_president_name.groupby('First')"
   ]
  },
  {
   "cell_type": "code",
   "execution_count": 60,
   "id": "smart-cleveland",
   "metadata": {},
   "outputs": [],
   "source": [
    "grp_data = grouped.get_group('George')"
   ]
  },
  {
   "cell_type": "code",
   "execution_count": 61,
   "id": "twelve-steering",
   "metadata": {},
   "outputs": [
    {
     "data": {
      "text/html": [
       "<div>\n",
       "<style scoped>\n",
       "    .dataframe tbody tr th:only-of-type {\n",
       "        vertical-align: middle;\n",
       "    }\n",
       "\n",
       "    .dataframe tbody tr th {\n",
       "        vertical-align: top;\n",
       "    }\n",
       "\n",
       "    .dataframe thead th {\n",
       "        text-align: right;\n",
       "    }\n",
       "</style>\n",
       "<table border=\"1\" class=\"dataframe\">\n",
       "  <thead>\n",
       "    <tr style=\"text-align: right;\">\n",
       "      <th></th>\n",
       "      <th>First</th>\n",
       "      <th>Last</th>\n",
       "    </tr>\n",
       "  </thead>\n",
       "  <tbody>\n",
       "    <tr>\n",
       "      <th>0</th>\n",
       "      <td>George</td>\n",
       "      <td>Bush</td>\n",
       "    </tr>\n",
       "    <tr>\n",
       "      <th>4</th>\n",
       "      <td>George</td>\n",
       "      <td>Washington</td>\n",
       "    </tr>\n",
       "  </tbody>\n",
       "</table>\n",
       "</div>"
      ],
      "text/plain": [
       "    First        Last\n",
       "0  George        Bush\n",
       "4  George  Washington"
      ]
     },
     "execution_count": 61,
     "metadata": {},
     "output_type": "execute_result"
    }
   ],
   "source": [
    "grp_data"
   ]
  },
  {
   "cell_type": "code",
   "execution_count": 62,
   "id": "limiting-debut",
   "metadata": {},
   "outputs": [
    {
     "data": {
      "text/html": [
       "<div>\n",
       "<style scoped>\n",
       "    .dataframe tbody tr th:only-of-type {\n",
       "        vertical-align: middle;\n",
       "    }\n",
       "\n",
       "    .dataframe tbody tr th {\n",
       "        vertical-align: top;\n",
       "    }\n",
       "\n",
       "    .dataframe thead th {\n",
       "        text-align: right;\n",
       "    }\n",
       "</style>\n",
       "<table border=\"1\" class=\"dataframe\">\n",
       "  <thead>\n",
       "    <tr style=\"text-align: right;\">\n",
       "      <th></th>\n",
       "      <th>First</th>\n",
       "      <th>Last</th>\n",
       "    </tr>\n",
       "  </thead>\n",
       "  <tbody>\n",
       "    <tr>\n",
       "      <th>1</th>\n",
       "      <td>Bill</td>\n",
       "      <td>Clinton</td>\n",
       "    </tr>\n",
       "    <tr>\n",
       "      <th>0</th>\n",
       "      <td>George</td>\n",
       "      <td>Bush</td>\n",
       "    </tr>\n",
       "    <tr>\n",
       "      <th>4</th>\n",
       "      <td>George</td>\n",
       "      <td>Washington</td>\n",
       "    </tr>\n",
       "    <tr>\n",
       "      <th>3</th>\n",
       "      <td>Jimmy</td>\n",
       "      <td>Carter</td>\n",
       "    </tr>\n",
       "    <tr>\n",
       "      <th>2</th>\n",
       "      <td>Ronald</td>\n",
       "      <td>Regan</td>\n",
       "    </tr>\n",
       "  </tbody>\n",
       "</table>\n",
       "</div>"
      ],
      "text/plain": [
       "    First        Last\n",
       "1    Bill     Clinton\n",
       "0  George        Bush\n",
       "4  George  Washington\n",
       "3   Jimmy      Carter\n",
       "2  Ronald       Regan"
      ]
     },
     "execution_count": 62,
     "metadata": {},
     "output_type": "execute_result"
    }
   ],
   "source": [
    "#Sort values by first name\n",
    "\n",
    "df_president_name.sort_values('First')"
   ]
  },
  {
   "cell_type": "markdown",
   "id": "magnetic-questionnaire",
   "metadata": {},
   "source": [
    "## Data Standardization"
   ]
  },
  {
   "cell_type": "code",
   "execution_count": 63,
   "id": "better-veteran",
   "metadata": {},
   "outputs": [],
   "source": [
    "#Create a function to return the standardize value\n",
    "\n",
    "def standardize_tests(test):\n",
    "    return (test-test.mean())/test.std()"
   ]
  },
  {
   "cell_type": "code",
   "execution_count": 64,
   "id": "found-employee",
   "metadata": {},
   "outputs": [
    {
     "data": {
      "text/plain": [
       "Jack       1.210437\n",
       "Lewis      0.292174\n",
       "Patrick   -0.626088\n",
       "Rich       0.626088\n",
       "Kelly      0.125218\n",
       "Paula     -1.627829\n",
       "Name: Test 1, dtype: float64"
      ]
     },
     "execution_count": 64,
     "metadata": {},
     "output_type": "execute_result"
    }
   ],
   "source": [
    "standardize_tests(df_test_score['Test 1'])"
   ]
  },
  {
   "cell_type": "code",
   "execution_count": 67,
   "id": "atomic-report",
   "metadata": {},
   "outputs": [],
   "source": [
    "#Apply the function to the entire dataset\n",
    "\n",
    "def standardize_test_score(datafrm):\n",
    "    return datafrm.apply(standardize_tests)"
   ]
  },
  {
   "cell_type": "code",
   "execution_count": 68,
   "id": "lovely-shepherd",
   "metadata": {},
   "outputs": [
    {
     "data": {
      "text/html": [
       "<div>\n",
       "<style scoped>\n",
       "    .dataframe tbody tr th:only-of-type {\n",
       "        vertical-align: middle;\n",
       "    }\n",
       "\n",
       "    .dataframe tbody tr th {\n",
       "        vertical-align: top;\n",
       "    }\n",
       "\n",
       "    .dataframe thead th {\n",
       "        text-align: right;\n",
       "    }\n",
       "</style>\n",
       "<table border=\"1\" class=\"dataframe\">\n",
       "  <thead>\n",
       "    <tr style=\"text-align: right;\">\n",
       "      <th></th>\n",
       "      <th>Test 1</th>\n",
       "      <th>Test 2</th>\n",
       "    </tr>\n",
       "  </thead>\n",
       "  <tbody>\n",
       "    <tr>\n",
       "      <th>Jack</th>\n",
       "      <td>1.210437</td>\n",
       "      <td>-0.935276</td>\n",
       "    </tr>\n",
       "    <tr>\n",
       "      <th>Lewis</th>\n",
       "      <td>0.292174</td>\n",
       "      <td>1.438886</td>\n",
       "    </tr>\n",
       "    <tr>\n",
       "      <th>Patrick</th>\n",
       "      <td>-0.626088</td>\n",
       "      <td>0.791387</td>\n",
       "    </tr>\n",
       "    <tr>\n",
       "      <th>Rich</th>\n",
       "      <td>0.626088</td>\n",
       "      <td>-1.151109</td>\n",
       "    </tr>\n",
       "    <tr>\n",
       "      <th>Kelly</th>\n",
       "      <td>0.125218</td>\n",
       "      <td>-0.287777</td>\n",
       "    </tr>\n",
       "    <tr>\n",
       "      <th>Paula</th>\n",
       "      <td>-1.627829</td>\n",
       "      <td>0.143889</td>\n",
       "    </tr>\n",
       "  </tbody>\n",
       "</table>\n",
       "</div>"
      ],
      "text/plain": [
       "           Test 1    Test 2\n",
       "Jack     1.210437 -0.935276\n",
       "Lewis    0.292174  1.438886\n",
       "Patrick -0.626088  0.791387\n",
       "Rich     0.626088 -1.151109\n",
       "Kelly    0.125218 -0.287777\n",
       "Paula   -1.627829  0.143889"
      ]
     },
     "execution_count": 68,
     "metadata": {},
     "output_type": "execute_result"
    }
   ],
   "source": [
    "standardize_test_score(df_test_score)"
   ]
  },
  {
   "cell_type": "code",
   "execution_count": null,
   "id": "published-patrick",
   "metadata": {},
   "outputs": [],
   "source": []
  }
 ],
 "metadata": {
  "kernelspec": {
   "display_name": "Python 3",
   "language": "python",
   "name": "python3"
  },
  "language_info": {
   "codemirror_mode": {
    "name": "ipython",
    "version": 3
   },
   "file_extension": ".py",
   "mimetype": "text/x-python",
   "name": "python",
   "nbconvert_exporter": "python",
   "pygments_lexer": "ipython3",
   "version": "3.7.10"
  }
 },
 "nbformat": 4,
 "nbformat_minor": 5
}
