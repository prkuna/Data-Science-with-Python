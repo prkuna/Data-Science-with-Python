{
 "cells": [
  {
   "cell_type": "code",
   "execution_count": 1,
   "id": "polyphonic-proof",
   "metadata": {},
   "outputs": [],
   "source": [
    "import sys"
   ]
  },
  {
   "cell_type": "code",
   "execution_count": 2,
   "id": "signed-investigator",
   "metadata": {},
   "outputs": [
    {
     "name": "stdout",
     "output_type": "stream",
     "text": [
      "3.7.10 (default, Feb 26 2021, 13:06:18) [MSC v.1916 64 bit (AMD64)]\n"
     ]
    }
   ],
   "source": [
    "print(sys.version)"
   ]
  },
  {
   "cell_type": "code",
   "execution_count": 3,
   "id": "returning-development",
   "metadata": {},
   "outputs": [],
   "source": [
    "import platform"
   ]
  },
  {
   "cell_type": "code",
   "execution_count": 4,
   "id": "fresh-conditions",
   "metadata": {},
   "outputs": [
    {
     "data": {
      "text/plain": [
       "'3.7.10'"
      ]
     },
     "execution_count": 4,
     "metadata": {},
     "output_type": "execute_result"
    }
   ],
   "source": [
    "platform.python_version()"
   ]
  },
  {
   "cell_type": "code",
   "execution_count": 5,
   "id": "radio-flashing",
   "metadata": {},
   "outputs": [
    {
     "name": "stdout",
     "output_type": "stream",
     "text": [
      "Hello World\n"
     ]
    }
   ],
   "source": [
    "# A Hello World Example\n",
    "print('Hello World')"
   ]
  },
  {
   "cell_type": "code",
   "execution_count": 6,
   "id": "posted-christopher",
   "metadata": {},
   "outputs": [
    {
     "data": {
      "text/plain": [
       "8"
      ]
     },
     "execution_count": 6,
     "metadata": {},
     "output_type": "execute_result"
    }
   ],
   "source": [
    "3+5"
   ]
  },
  {
   "cell_type": "code",
   "execution_count": 7,
   "id": "opening-sheep",
   "metadata": {},
   "outputs": [
    {
     "data": {
      "text/plain": [
       "32"
      ]
     },
     "execution_count": 7,
     "metadata": {},
     "output_type": "execute_result"
    }
   ],
   "source": [
    "8*4"
   ]
  },
  {
   "cell_type": "markdown",
   "id": "premium-butler",
   "metadata": {},
   "source": [
    "### Variables and Assignment\n",
    "\n",
    "A variable can be assigned or bound to any value. Some of the characteristics of binding a variable in Python are listed here:"
   ]
  },
  {
   "cell_type": "code",
   "execution_count": 8,
   "id": "numerous-grade",
   "metadata": {},
   "outputs": [],
   "source": [
    "x=3      # x is the  variable refers to the memory location of the assigned value."
   ]
  },
  {
   "cell_type": "code",
   "execution_count": 9,
   "id": "adaptive-portrait",
   "metadata": {},
   "outputs": [
    {
     "data": {
      "text/plain": [
       "int"
      ]
     },
     "execution_count": 9,
     "metadata": {},
     "output_type": "execute_result"
    }
   ],
   "source": [
    "type(x)"
   ]
  },
  {
   "cell_type": "code",
   "execution_count": 10,
   "id": "lesbian-mountain",
   "metadata": {},
   "outputs": [],
   "source": [
    "y=2.1     #y is the variable appears on the left, while the value 2.1 appears on the right."
   ]
  },
  {
   "cell_type": "code",
   "execution_count": 11,
   "id": "dramatic-general",
   "metadata": {},
   "outputs": [
    {
     "data": {
      "text/plain": [
       "float"
      ]
     },
     "execution_count": 11,
     "metadata": {},
     "output_type": "execute_result"
    }
   ],
   "source": [
    "type(y)"
   ]
  },
  {
   "cell_type": "code",
   "execution_count": 12,
   "id": "immune-contact",
   "metadata": {},
   "outputs": [],
   "source": [
    "z='test'"
   ]
  },
  {
   "cell_type": "code",
   "execution_count": 13,
   "id": "super-mount",
   "metadata": {},
   "outputs": [
    {
     "data": {
      "text/plain": [
       "str"
      ]
     },
     "execution_count": 13,
     "metadata": {},
     "output_type": "execute_result"
    }
   ],
   "source": [
    "type(z)   #The data type of the assigned value and the variable is the same."
   ]
  },
  {
   "cell_type": "markdown",
   "id": "marked-budapest",
   "metadata": {},
   "source": [
    "### Variables and Assignment Example\n",
    "\n",
    "Let us look at an example of how you can assign a value to a variable, and print it and its data type."
   ]
  },
  {
   "cell_type": "code",
   "execution_count": 14,
   "id": "romance-minute",
   "metadata": {},
   "outputs": [],
   "source": [
    "first_string_variable = 'test'\n",
    "first_integer_variable = 123        #Assignment"
   ]
  },
  {
   "cell_type": "code",
   "execution_count": 15,
   "id": "voluntary-projection",
   "metadata": {},
   "outputs": [
    {
     "name": "stdout",
     "output_type": "stream",
     "text": [
      "test\n",
      "123\n"
     ]
    }
   ],
   "source": [
    "print (first_string_variable)\n",
    "print (first_integer_variable)       #Variable data value"
   ]
  },
  {
   "cell_type": "code",
   "execution_count": 16,
   "id": "champion-venice",
   "metadata": {},
   "outputs": [
    {
     "data": {
      "text/plain": [
       "int"
      ]
     },
     "execution_count": 16,
     "metadata": {},
     "output_type": "execute_result"
    }
   ],
   "source": [
    "type (first_string_variable)\n",
    "type (first_integer_variable)      #Data type of the object"
   ]
  },
  {
   "cell_type": "markdown",
   "id": "legislative-cover",
   "metadata": {},
   "source": [
    "### Multiple Assignments\n",
    "\n",
    "Can access a variable only if it is defined. Can define multiple variables simultaneously."
   ]
  },
  {
   "cell_type": "code",
   "execution_count": 17,
   "id": "instrumental-brave",
   "metadata": {},
   "outputs": [
    {
     "ename": "NameError",
     "evalue": "name 'number_example' is not defined",
     "output_type": "error",
     "traceback": [
      "\u001b[1;31m---------------------------------------------------------------------------\u001b[0m",
      "\u001b[1;31mNameError\u001b[0m                                 Traceback (most recent call last)",
      "\u001b[1;32m<ipython-input-17-9b3081cc6c19>\u001b[0m in \u001b[0;36m<module>\u001b[1;34m\u001b[0m\n\u001b[1;32m----> 1\u001b[1;33m \u001b[0mnumber_example\u001b[0m    \u001b[1;31m#Access variable without assignment\u001b[0m\u001b[1;33m\u001b[0m\u001b[1;33m\u001b[0m\u001b[0m\n\u001b[0m",
      "\u001b[1;31mNameError\u001b[0m: name 'number_example' is not defined"
     ]
    }
   ],
   "source": [
    "number_example    #Access variable without assignment"
   ]
  },
  {
   "cell_type": "code",
   "execution_count": 18,
   "id": "north-candidate",
   "metadata": {},
   "outputs": [],
   "source": [
    "number_example = 2   #Access variable after assignment"
   ]
  },
  {
   "cell_type": "code",
   "execution_count": 19,
   "id": "fatal-third",
   "metadata": {},
   "outputs": [
    {
     "data": {
      "text/plain": [
       "2"
      ]
     },
     "execution_count": 19,
     "metadata": {},
     "output_type": "execute_result"
    }
   ],
   "source": [
    "number_example"
   ]
  },
  {
   "cell_type": "code",
   "execution_count": 20,
   "id": "unknown-tolerance",
   "metadata": {},
   "outputs": [],
   "source": [
    "integer_x, integer_y = 5,22    #Multiple assignments"
   ]
  },
  {
   "cell_type": "code",
   "execution_count": 21,
   "id": "norwegian-nicholas",
   "metadata": {},
   "outputs": [
    {
     "data": {
      "text/plain": [
       "5"
      ]
     },
     "execution_count": 21,
     "metadata": {},
     "output_type": "execute_result"
    }
   ],
   "source": [
    "integer_x"
   ]
  },
  {
   "cell_type": "code",
   "execution_count": 22,
   "id": "inappropriate-chemical",
   "metadata": {},
   "outputs": [
    {
     "data": {
      "text/plain": [
       "22"
      ]
     },
     "execution_count": 22,
     "metadata": {},
     "output_type": "execute_result"
    }
   ],
   "source": [
    "integer_y"
   ]
  },
  {
   "cell_type": "markdown",
   "id": "grateful-decade",
   "metadata": {},
   "source": [
    "### Assignment and Reference\n",
    "\n",
    "When a variable is assigned a value, it refers to the value’s memory location or address. It does not equal the value itself."
   ]
  },
  {
   "cell_type": "code",
   "execution_count": 23,
   "id": "smoking-amino",
   "metadata": {},
   "outputs": [],
   "source": [
    "x = 3"
   ]
  },
  {
   "cell_type": "code",
   "execution_count": 24,
   "id": "eleven-psychiatry",
   "metadata": {},
   "outputs": [
    {
     "data": {
      "text/plain": [
       "3"
      ]
     },
     "execution_count": 24,
     "metadata": {},
     "output_type": "execute_result"
    }
   ],
   "source": [
    "x"
   ]
  },
  {
   "cell_type": "code",
   "execution_count": 25,
   "id": "usual-zambia",
   "metadata": {},
   "outputs": [],
   "source": [
    "x = 3\n",
    "x = x+1"
   ]
  },
  {
   "cell_type": "code",
   "execution_count": 26,
   "id": "median-internship",
   "metadata": {},
   "outputs": [
    {
     "name": "stdout",
     "output_type": "stream",
     "text": [
      "4\n"
     ]
    }
   ],
   "source": [
    "print(x)"
   ]
  },
  {
   "cell_type": "markdown",
   "id": "timely-coaching",
   "metadata": {},
   "source": [
    "## Basic Data Types: Integer and Float\n",
    "\n",
    "Python supports various data types. There are two main numeric data types:"
   ]
  },
  {
   "cell_type": "code",
   "execution_count": 27,
   "id": "grand-reservoir",
   "metadata": {},
   "outputs": [
    {
     "data": {
      "text/plain": [
       "3.5"
      ]
     },
     "execution_count": 27,
     "metadata": {},
     "output_type": "execute_result"
    }
   ],
   "source": [
    "int_number = 7/2\n",
    "int_number"
   ]
  },
  {
   "cell_type": "code",
   "execution_count": 28,
   "id": "infectious-contributor",
   "metadata": {},
   "outputs": [
    {
     "data": {
      "text/plain": [
       "2.466666666666667"
      ]
     },
     "execution_count": 28,
     "metadata": {},
     "output_type": "execute_result"
    }
   ],
   "source": [
    "float_number = 7.4/3\n",
    "float_number"
   ]
  },
  {
   "cell_type": "markdown",
   "id": "subsequent-dubai",
   "metadata": {},
   "source": [
    "## Basic Data Types: String\n",
    "\n",
    "Python has extremely powerful and flexible built-in string processing capabilities."
   ]
  },
  {
   "cell_type": "code",
   "execution_count": 29,
   "id": "designing-mother",
   "metadata": {},
   "outputs": [],
   "source": [
    "string_one = 'first string'    #With single quote\n",
    "string_two = \"second string\"     #With double quote\n",
    "string_third = \"\"\"third string\"\"\"    #Three double quotes"
   ]
  },
  {
   "cell_type": "code",
   "execution_count": 30,
   "id": "timely-crack",
   "metadata": {},
   "outputs": [
    {
     "name": "stdout",
     "output_type": "stream",
     "text": [
      "first string\n",
      "second string\n",
      "third string\n"
     ]
    }
   ],
   "source": [
    "print (string_one)\n",
    "print (string_two)\n",
    "print (string_third)"
   ]
  },
  {
   "cell_type": "markdown",
   "id": "future-sharing",
   "metadata": {},
   "source": [
    "## Basic Data Types: None and Boolean\n",
    "\n",
    "Python also supports the None and Boolean data types."
   ]
  },
  {
   "cell_type": "code",
   "execution_count": 31,
   "id": "generic-asset",
   "metadata": {},
   "outputs": [
    {
     "data": {
      "text/plain": [
       "True"
      ]
     },
     "execution_count": 31,
     "metadata": {},
     "output_type": "execute_result"
    }
   ],
   "source": [
    "num_x = None       #Null value type\n",
    "num_x is None      "
   ]
  },
  {
   "cell_type": "code",
   "execution_count": 32,
   "id": "adopted-robert",
   "metadata": {},
   "outputs": [
    {
     "data": {
      "text/plain": [
       "False"
      ]
     },
     "execution_count": 32,
     "metadata": {},
     "output_type": "execute_result"
    }
   ],
   "source": [
    "num_x = 20\n",
    "num_x is None     "
   ]
  },
  {
   "cell_type": "markdown",
   "id": "valuable-wichita",
   "metadata": {},
   "source": [
    "## Type Casting\n",
    "\n",
    "Can change the data type of a number using type casting."
   ]
  },
  {
   "cell_type": "code",
   "execution_count": 33,
   "id": "undefined-sight",
   "metadata": {},
   "outputs": [],
   "source": [
    "float_number = 2.54678    #Float number"
   ]
  },
  {
   "cell_type": "code",
   "execution_count": 34,
   "id": "direct-ethnic",
   "metadata": {},
   "outputs": [
    {
     "data": {
      "text/plain": [
       "2.54678"
      ]
     },
     "execution_count": 34,
     "metadata": {},
     "output_type": "execute_result"
    }
   ],
   "source": [
    "float_number"
   ]
  },
  {
   "cell_type": "code",
   "execution_count": 35,
   "id": "final-analysis",
   "metadata": {},
   "outputs": [
    {
     "data": {
      "text/plain": [
       "2"
      ]
     },
     "execution_count": 35,
     "metadata": {},
     "output_type": "execute_result"
    }
   ],
   "source": [
    "int(float_number)     #Type cast to integer"
   ]
  },
  {
   "cell_type": "code",
   "execution_count": 36,
   "id": "attached-acceptance",
   "metadata": {},
   "outputs": [
    {
     "data": {
      "text/plain": [
       "'2.54678'"
      ]
     },
     "execution_count": 36,
     "metadata": {},
     "output_type": "execute_result"
    }
   ],
   "source": [
    "str(float_number)      #Type cast to string value"
   ]
  },
  {
   "cell_type": "markdown",
   "id": "academic-manner",
   "metadata": {},
   "source": [
    "## Data Structure: Tuple\n",
    "\n",
    "A tuple is a one-dimensional, immutable ordered sequence of items which can be of mixed data types."
   ]
  },
  {
   "cell_type": "code",
   "execution_count": 37,
   "id": "prostate-publisher",
   "metadata": {},
   "outputs": [],
   "source": [
    "first_tuple = (12,'Jack',45.6,'new',(3,2),'test')     #Create a tuple"
   ]
  },
  {
   "cell_type": "code",
   "execution_count": 38,
   "id": "patent-shelter",
   "metadata": {},
   "outputs": [
    {
     "data": {
      "text/plain": [
       "(12, 'Jack', 45.6, 'new', (3, 2), 'test')"
      ]
     },
     "execution_count": 38,
     "metadata": {},
     "output_type": "execute_result"
    }
   ],
   "source": [
    "first_tuple     #View tuple"
   ]
  },
  {
   "cell_type": "code",
   "execution_count": 39,
   "id": "acknowledged-pierre",
   "metadata": {},
   "outputs": [
    {
     "data": {
      "text/plain": [
       "'Jack'"
      ]
     },
     "execution_count": 39,
     "metadata": {},
     "output_type": "execute_result"
    }
   ],
   "source": [
    "first_tuple[1]    #Access the data at index value 1"
   ]
  },
  {
   "cell_type": "code",
   "execution_count": 40,
   "id": "postal-puzzle",
   "metadata": {},
   "outputs": [
    {
     "ename": "TypeError",
     "evalue": "'tuple' object does not support item assignment",
     "output_type": "error",
     "traceback": [
      "\u001b[1;31m---------------------------------------------------------------------------\u001b[0m",
      "\u001b[1;31mTypeError\u001b[0m                                 Traceback (most recent call last)",
      "\u001b[1;32m<ipython-input-40-d0928ccc3803>\u001b[0m in \u001b[0;36m<module>\u001b[1;34m\u001b[0m\n\u001b[1;32m----> 1\u001b[1;33m \u001b[0mfirst_tuple\u001b[0m\u001b[1;33m[\u001b[0m\u001b[1;36m1\u001b[0m\u001b[1;33m]\u001b[0m \u001b[1;33m=\u001b[0m \u001b[1;34m'Mark'\u001b[0m    \u001b[1;31m#Try to modify the tuple\u001b[0m\u001b[1;33m\u001b[0m\u001b[1;33m\u001b[0m\u001b[0m\n\u001b[0m",
      "\u001b[1;31mTypeError\u001b[0m: 'tuple' object does not support item assignment"
     ]
    }
   ],
   "source": [
    "first_tuple[1] = 'Mark'    #Try to modify the tuple"
   ]
  },
  {
   "cell_type": "markdown",
   "id": "physical-bones",
   "metadata": {},
   "source": [
    "### Data Structure: Accessing Tuples\n",
    "\n",
    "You can access a tuple using indices."
   ]
  },
  {
   "cell_type": "code",
   "execution_count": 41,
   "id": "later-particle",
   "metadata": {},
   "outputs": [],
   "source": [
    "first_tuple = (12,'Jack',45.6,'new',(3,2),'test')     #Tuple"
   ]
  },
  {
   "cell_type": "code",
   "execution_count": 42,
   "id": "equivalent-blake",
   "metadata": {},
   "outputs": [
    {
     "data": {
      "text/plain": [
       "45.6"
      ]
     },
     "execution_count": 42,
     "metadata": {},
     "output_type": "execute_result"
    }
   ],
   "source": [
    "#Accessing elements using a positive index\n",
    "#The index count start from the left, with the first index being 0\n",
    "first_tuple[2]"
   ]
  },
  {
   "cell_type": "code",
   "execution_count": 43,
   "id": "lesbian-elephant",
   "metadata": {},
   "outputs": [
    {
     "data": {
      "text/plain": [
       "'new'"
      ]
     },
     "execution_count": 43,
     "metadata": {},
     "output_type": "execute_result"
    }
   ],
   "source": [
    "#Accessing elements using a negative index\n",
    "#The index count start from the left, with the first index being -1\n",
    "first_tuple[-3]"
   ]
  },
  {
   "cell_type": "markdown",
   "id": "unnecessary-biography",
   "metadata": {},
   "source": [
    "### Data Structure: Slicing Tuples\n",
    "\n",
    "Can also slice a range of elements by specifying the start and end indices of the desired range."
   ]
  },
  {
   "cell_type": "code",
   "execution_count": 44,
   "id": "equivalent-restaurant",
   "metadata": {},
   "outputs": [],
   "source": [
    "first_tuple = (12,'Jack',45.6,'new',(3,2),'test')     #Tuple"
   ]
  },
  {
   "cell_type": "code",
   "execution_count": 45,
   "id": "expanded-confidentiality",
   "metadata": {},
   "outputs": [
    {
     "data": {
      "text/plain": [
       "('Jack', 45.6, 'new')"
      ]
     },
     "execution_count": 45,
     "metadata": {},
     "output_type": "execute_result"
    }
   ],
   "source": [
    "#Creating a subset/slice of the tuple\n",
    "#Specify the indices of the elements, separated by a colon\n",
    "#The first index is inclusive; the second index is exclusive\n",
    "first_tuple[1:4]"
   ]
  },
  {
   "cell_type": "code",
   "execution_count": 46,
   "id": "civic-insert",
   "metadata": {},
   "outputs": [
    {
     "data": {
      "text/plain": [
       "('Jack', 45.6, 'new', (3, 2))"
      ]
     },
     "execution_count": 46,
     "metadata": {},
     "output_type": "execute_result"
    }
   ],
   "source": [
    "#Can use negative indices as well to slice a tuple\n",
    "#Count from the right, starting from -1, to specify the  correct index\n",
    "first_tuple[1:-1]"
   ]
  },
  {
   "cell_type": "markdown",
   "id": "thousand-tuning",
   "metadata": {},
   "source": [
    "## Data Structure: List\n",
    "\n",
    "A list is a one-dimensional, mutable ordered sequence of items which can be of mixed data types."
   ]
  },
  {
   "cell_type": "code",
   "execution_count": 56,
   "id": "elder-portable",
   "metadata": {},
   "outputs": [],
   "source": [
    "first_list = ['Mark',101,23.6,'test',None,11]     #Create a list"
   ]
  },
  {
   "cell_type": "code",
   "execution_count": 57,
   "id": "charming-palace",
   "metadata": {},
   "outputs": [
    {
     "data": {
      "text/plain": [
       "['Mark', 101, 23.6, 'test', None, 11]"
      ]
     },
     "execution_count": 57,
     "metadata": {},
     "output_type": "execute_result"
    }
   ],
   "source": [
    "first_list    #View a list"
   ]
  },
  {
   "cell_type": "code",
   "execution_count": 58,
   "id": "frank-semiconductor",
   "metadata": {},
   "outputs": [],
   "source": [
    "first_list.append('Jack')     #Modify a list: Add new items"
   ]
  },
  {
   "cell_type": "code",
   "execution_count": 59,
   "id": "presidential-athens",
   "metadata": {},
   "outputs": [
    {
     "data": {
      "text/plain": [
       "['Mark', 101, 23.6, 'test', None, 11, 'Jack']"
      ]
     },
     "execution_count": 59,
     "metadata": {},
     "output_type": "execute_result"
    }
   ],
   "source": [
    "first_list"
   ]
  },
  {
   "cell_type": "code",
   "execution_count": 60,
   "id": "coastal-design",
   "metadata": {},
   "outputs": [],
   "source": [
    "first_list.remove('Mark')    #Modify a list: Remove items"
   ]
  },
  {
   "cell_type": "code",
   "execution_count": 61,
   "id": "behavioral-behalf",
   "metadata": {},
   "outputs": [
    {
     "data": {
      "text/plain": [
       "[101, 23.6, 'test', None, 11, 'Jack']"
      ]
     },
     "execution_count": 61,
     "metadata": {},
     "output_type": "execute_result"
    }
   ],
   "source": [
    "first_list"
   ]
  },
  {
   "cell_type": "code",
   "execution_count": 62,
   "id": "complete-mattress",
   "metadata": {},
   "outputs": [
    {
     "data": {
      "text/plain": [
       "'test'"
      ]
     },
     "execution_count": 62,
     "metadata": {},
     "output_type": "execute_result"
    }
   ],
   "source": [
    "first_list.pop(2)     #Access and remove list data using element indices"
   ]
  },
  {
   "cell_type": "code",
   "execution_count": 63,
   "id": "distinguished-correction",
   "metadata": {},
   "outputs": [],
   "source": [
    "first_list.insert(1,'Smith')       #Modify a list: Insert a new item at a certain index"
   ]
  },
  {
   "cell_type": "code",
   "execution_count": 64,
   "id": "finite-attention",
   "metadata": {},
   "outputs": [
    {
     "data": {
      "text/plain": [
       "[101, 'Smith', 23.6, None, 11, 'Jack']"
      ]
     },
     "execution_count": 64,
     "metadata": {},
     "output_type": "execute_result"
    }
   ],
   "source": [
    "first_list"
   ]
  },
  {
   "cell_type": "markdown",
   "id": "recovered-decimal",
   "metadata": {},
   "source": [
    "### Data Structure: Accessing Lists"
   ]
  },
  {
   "cell_type": "code",
   "execution_count": 65,
   "id": "interim-bristol",
   "metadata": {},
   "outputs": [
    {
     "data": {
      "text/plain": [
       "[101, 'Smith', 23.6, None, 11, 'Jack']"
      ]
     },
     "execution_count": 65,
     "metadata": {},
     "output_type": "execute_result"
    }
   ],
   "source": [
    "first_list"
   ]
  },
  {
   "cell_type": "code",
   "execution_count": 66,
   "id": "killing-asian",
   "metadata": {},
   "outputs": [
    {
     "data": {
      "text/plain": [
       "23.6"
      ]
     },
     "execution_count": 66,
     "metadata": {},
     "output_type": "execute_result"
    }
   ],
   "source": [
    "#Accessing elements using a positive index\n",
    "#The index count start from the left, with the first index being 0\n",
    "first_list[2]"
   ]
  },
  {
   "cell_type": "code",
   "execution_count": 67,
   "id": "vulnerable-operator",
   "metadata": {},
   "outputs": [
    {
     "data": {
      "text/plain": [
       "11"
      ]
     },
     "execution_count": 67,
     "metadata": {},
     "output_type": "execute_result"
    }
   ],
   "source": [
    "#Accessing elements using a negative index\n",
    "#The index count start from the right, with the first index being -1\n",
    "first_list[-2]"
   ]
  },
  {
   "cell_type": "markdown",
   "id": "daily-senegal",
   "metadata": {},
   "source": [
    "### Data Structure: Slicing Lists"
   ]
  },
  {
   "cell_type": "code",
   "execution_count": 68,
   "id": "individual-supervisor",
   "metadata": {},
   "outputs": [
    {
     "data": {
      "text/plain": [
       "[101, 'Smith', 23.6, None, 11, 'Jack']"
      ]
     },
     "execution_count": 68,
     "metadata": {},
     "output_type": "execute_result"
    }
   ],
   "source": [
    "first_list"
   ]
  },
  {
   "cell_type": "code",
   "execution_count": 69,
   "id": "concerned-brass",
   "metadata": {},
   "outputs": [
    {
     "data": {
      "text/plain": [
       "['Smith', 23.6, None]"
      ]
     },
     "execution_count": 69,
     "metadata": {},
     "output_type": "execute_result"
    }
   ],
   "source": [
    "#creating a subset/slice of the tuple\n",
    "#Specify the indices of the elements, separated by a colon\n",
    "#The first index is inclusive; the second index is exclusive\n",
    "first_list[1:4]    #Count starts with the first index, but stops before the second index"
   ]
  },
  {
   "cell_type": "code",
   "execution_count": 70,
   "id": "retained-candy",
   "metadata": {},
   "outputs": [
    {
     "data": {
      "text/plain": [
       "['Smith', 23.6, None, 11]"
      ]
     },
     "execution_count": 70,
     "metadata": {},
     "output_type": "execute_result"
    }
   ],
   "source": [
    "#Can use negative indices as well to slice a tuple\n",
    "#COunt from the right, starting from -1, to specify the correct index\n",
    "first_list[1:-1]      #Even for negative indices, the count stops before the second index"
   ]
  },
  {
   "cell_type": "markdown",
   "id": "wrapped-acrylic",
   "metadata": {},
   "source": [
    "# Data Structure: Dictionary (dict)"
   ]
  },
  {
   "cell_type": "code",
   "execution_count": 71,
   "id": "registered-london",
   "metadata": {},
   "outputs": [],
   "source": [
    "first_dict = {'John':'john@abc.com','Kelly':'kelly@xyz.com','id':[23,81]}    #Create a dictionary"
   ]
  },
  {
   "cell_type": "code",
   "execution_count": 72,
   "id": "agreed-service",
   "metadata": {},
   "outputs": [
    {
     "data": {
      "text/plain": [
       "{'John': 'john@abc.com', 'Kelly': 'kelly@xyz.com', 'id': [23, 81]}"
      ]
     },
     "execution_count": 72,
     "metadata": {},
     "output_type": "execute_result"
    }
   ],
   "source": [
    "first_dict"
   ]
  },
  {
   "cell_type": "code",
   "execution_count": 74,
   "id": "obvious-glass",
   "metadata": {},
   "outputs": [
    {
     "data": {
      "text/plain": [
       "dict_keys(['John', 'Kelly', 'id'])"
      ]
     },
     "execution_count": 74,
     "metadata": {},
     "output_type": "execute_result"
    }
   ],
   "source": [
    "first_dict.keys()     #View only keys"
   ]
  },
  {
   "cell_type": "code",
   "execution_count": 75,
   "id": "short-greek",
   "metadata": {},
   "outputs": [
    {
     "data": {
      "text/plain": [
       "dict_values(['john@abc.com', 'kelly@xyz.com', [23, 81]])"
      ]
     },
     "execution_count": 75,
     "metadata": {},
     "output_type": "execute_result"
    }
   ],
   "source": [
    "first_dict.values()       #View only values"
   ]
  },
  {
   "cell_type": "markdown",
   "id": "advanced-receiver",
   "metadata": {},
   "source": [
    "### Data Structure: Access and Modify dict Elements\n",
    "\n",
    "Can also access and modify individual elements in a dict."
   ]
  },
  {
   "cell_type": "code",
   "execution_count": 76,
   "id": "dress-exhibit",
   "metadata": {},
   "outputs": [
    {
     "data": {
      "text/plain": [
       "'kelly@xyz.com'"
      ]
     },
     "execution_count": 76,
     "metadata": {},
     "output_type": "execute_result"
    }
   ],
   "source": [
    "first_dict['Kelly']"
   ]
  },
  {
   "cell_type": "code",
   "execution_count": 77,
   "id": "inappropriate-jungle",
   "metadata": {},
   "outputs": [
    {
     "data": {
      "text/plain": [
       "[23, 81]"
      ]
     },
     "execution_count": 77,
     "metadata": {},
     "output_type": "execute_result"
    }
   ],
   "source": [
    "first_dict['id']"
   ]
  },
  {
   "cell_type": "code",
   "execution_count": 78,
   "id": "expressed-revolution",
   "metadata": {},
   "outputs": [],
   "source": [
    "first_dict.update({'id':[32,55]})      #Modify dictionary: update"
   ]
  },
  {
   "cell_type": "code",
   "execution_count": 79,
   "id": "guilty-celtic",
   "metadata": {},
   "outputs": [
    {
     "data": {
      "text/plain": [
       "{'John': 'john@abc.com', 'Kelly': 'kelly@xyz.com', 'id': [32, 55]}"
      ]
     },
     "execution_count": 79,
     "metadata": {},
     "output_type": "execute_result"
    }
   ],
   "source": [
    "first_dict"
   ]
  },
  {
   "cell_type": "code",
   "execution_count": 80,
   "id": "unsigned-actress",
   "metadata": {},
   "outputs": [],
   "source": [
    "del first_dict['id']      #Modify dictionary: delete"
   ]
  },
  {
   "cell_type": "code",
   "execution_count": 81,
   "id": "static-storage",
   "metadata": {},
   "outputs": [
    {
     "data": {
      "text/plain": [
       "{'John': 'john@abc.com', 'Kelly': 'kelly@xyz.com'}"
      ]
     },
     "execution_count": 81,
     "metadata": {},
     "output_type": "execute_result"
    }
   ],
   "source": [
    "first_dict"
   ]
  },
  {
   "cell_type": "markdown",
   "id": "economic-aurora",
   "metadata": {},
   "source": [
    "## Data Structure: Set\n",
    "\n",
    "A set is an unordered collection of unique elements."
   ]
  },
  {
   "cell_type": "code",
   "execution_count": 82,
   "id": "three-vacation",
   "metadata": {},
   "outputs": [],
   "source": [
    "auto_survey = set(['Audi','BMW','BMW','Ferrari','GM','Mercedes','Cheverolet','GM'])      #Create a set"
   ]
  },
  {
   "cell_type": "code",
   "execution_count": 83,
   "id": "banned-arlington",
   "metadata": {},
   "outputs": [
    {
     "data": {
      "text/plain": [
       "{'Audi', 'BMW', 'Cheverolet', 'Ferrari', 'GM', 'Mercedes'}"
      ]
     },
     "execution_count": 83,
     "metadata": {},
     "output_type": "execute_result"
    }
   ],
   "source": [
    "auto_survey"
   ]
  },
  {
   "cell_type": "code",
   "execution_count": 85,
   "id": "postal-horizon",
   "metadata": {},
   "outputs": [],
   "source": [
    "auto_survey_set = {'Audi','BMW','BMW','Ferrari','GM','Mercedes','Cheverolet','GM'}      #Create a set"
   ]
  },
  {
   "cell_type": "code",
   "execution_count": 86,
   "id": "signed-dining",
   "metadata": {},
   "outputs": [
    {
     "data": {
      "text/plain": [
       "set"
      ]
     },
     "execution_count": 86,
     "metadata": {},
     "output_type": "execute_result"
    }
   ],
   "source": [
    "type(auto_survey_set)"
   ]
  },
  {
   "cell_type": "code",
   "execution_count": 87,
   "id": "internal-youth",
   "metadata": {},
   "outputs": [
    {
     "data": {
      "text/plain": [
       "{'Audi', 'BMW', 'Cheverolet', 'Ferrari', 'GM', 'Mercedes'}"
      ]
     },
     "execution_count": 87,
     "metadata": {},
     "output_type": "execute_result"
    }
   ],
   "source": [
    "auto_survey_set"
   ]
  },
  {
   "cell_type": "markdown",
   "id": "pregnant-colonial",
   "metadata": {},
   "source": [
    "### Data Structure: Set Operations\n",
    "\n",
    "Let us look at some basic set operations."
   ]
  },
  {
   "cell_type": "code",
   "execution_count": 88,
   "id": "lasting-satisfaction",
   "metadata": {},
   "outputs": [],
   "source": [
    "auto_survey_1 = set(['Audi','BMW','BMW','Ferrari','GM','Mercedes','Cheverolet','GM'])      #Create a set\n",
    "auto_survey_2 = set(['BMW','Ferrari','GM','Hundai','Kia','Cheverolet','GM','Ford','Toyota','Zen'])"
   ]
  },
  {
   "cell_type": "code",
   "execution_count": 89,
   "id": "domestic-insulin",
   "metadata": {},
   "outputs": [],
   "source": [
    "combined_survey_report = auto_survey_1 | auto_survey_2      #OR – Union set operation"
   ]
  },
  {
   "cell_type": "code",
   "execution_count": 90,
   "id": "everyday-export",
   "metadata": {},
   "outputs": [
    {
     "data": {
      "text/plain": [
       "{'Audi',\n",
       " 'BMW',\n",
       " 'Cheverolet',\n",
       " 'Ferrari',\n",
       " 'Ford',\n",
       " 'GM',\n",
       " 'Hundai',\n",
       " 'Kia',\n",
       " 'Mercedes',\n",
       " 'Toyota',\n",
       " 'Zen'}"
      ]
     },
     "execution_count": 90,
     "metadata": {},
     "output_type": "execute_result"
    }
   ],
   "source": [
    "combined_survey_report"
   ]
  },
  {
   "cell_type": "code",
   "execution_count": 91,
   "id": "reported-sleeping",
   "metadata": {},
   "outputs": [],
   "source": [
    "common_survey_report = auto_survey_1 & auto_survey_2     #AND – Intersection set operation"
   ]
  },
  {
   "cell_type": "code",
   "execution_count": 92,
   "id": "mature-analyst",
   "metadata": {},
   "outputs": [
    {
     "data": {
      "text/plain": [
       "{'BMW', 'Cheverolet', 'Ferrari', 'GM'}"
      ]
     },
     "execution_count": 92,
     "metadata": {},
     "output_type": "execute_result"
    }
   ],
   "source": [
    "common_survey_report"
   ]
  },
  {
   "cell_type": "markdown",
   "id": "applicable-academy",
   "metadata": {},
   "source": [
    "## Basic Operator: in\n",
    "\n",
    "The 'in' operator is used to generate a Boolean value to indicate whether a given value is present in the container or not."
   ]
  },
  {
   "cell_type": "code",
   "execution_count": 93,
   "id": "israeli-subject",
   "metadata": {},
   "outputs": [],
   "source": [
    "student_list = ['Tom','Jack','Nick','Sarah','Nicole']         #Create a list"
   ]
  },
  {
   "cell_type": "code",
   "execution_count": 94,
   "id": "immediate-rebecca",
   "metadata": {},
   "outputs": [
    {
     "data": {
      "text/plain": [
       "True"
      ]
     },
     "execution_count": 94,
     "metadata": {},
     "output_type": "execute_result"
    }
   ],
   "source": [
    "'Nick' in student_list      #Test presence of string with in operator"
   ]
  },
  {
   "cell_type": "code",
   "execution_count": 95,
   "id": "confident-paradise",
   "metadata": {},
   "outputs": [
    {
     "data": {
      "text/plain": [
       "False"
      ]
     },
     "execution_count": 95,
     "metadata": {},
     "output_type": "execute_result"
    }
   ],
   "source": [
    "'Mark' in student_list         #Test presence of string with in operator"
   ]
  },
  {
   "cell_type": "code",
   "execution_count": 96,
   "id": "atlantic-percentage",
   "metadata": {},
   "outputs": [],
   "source": [
    "word = 'encyclopedia'      #Create a string"
   ]
  },
  {
   "cell_type": "code",
   "execution_count": 97,
   "id": "satisfactory-cause",
   "metadata": {},
   "outputs": [
    {
     "data": {
      "text/plain": [
       "False"
      ]
     },
     "execution_count": 97,
     "metadata": {},
     "output_type": "execute_result"
    }
   ],
   "source": [
    "'t' in word"
   ]
  },
  {
   "cell_type": "code",
   "execution_count": 98,
   "id": "injured-covering",
   "metadata": {},
   "outputs": [
    {
     "data": {
      "text/plain": [
       "True"
      ]
     },
     "execution_count": 98,
     "metadata": {},
     "output_type": "execute_result"
    }
   ],
   "source": [
    "'i' in word"
   ]
  },
  {
   "cell_type": "markdown",
   "id": "stunning-merchandise",
   "metadata": {},
   "source": [
    "### Basic Operator: +\n",
    "\n",
    "The plus operator produces a new tuple, list, or string whose value is the concatenation of its arguments."
   ]
  },
  {
   "cell_type": "code",
   "execution_count": 99,
   "id": "monthly-replication",
   "metadata": {},
   "outputs": [],
   "source": [
    "test_score_1 = (68,96,71)\n",
    "test_score_2 = (92,87,83)            #Create tuples"
   ]
  },
  {
   "cell_type": "code",
   "execution_count": 100,
   "id": "aging-snowboard",
   "metadata": {},
   "outputs": [
    {
     "data": {
      "text/plain": [
       "(68, 96, 71, 92, 87, 83)"
      ]
     },
     "execution_count": 100,
     "metadata": {},
     "output_type": "execute_result"
    }
   ],
   "source": [
    "test_score = test_score_1 + test_score_2       #Add tuples\n",
    "test_score"
   ]
  },
  {
   "cell_type": "code",
   "execution_count": 101,
   "id": "visible-player",
   "metadata": {},
   "outputs": [],
   "source": [
    "country_list_1 = ['USA','UK','China','Brazil','Maxico']     #Create lists\n",
    "country_list_2 = ['Australia','Spain','Italy']"
   ]
  },
  {
   "cell_type": "code",
   "execution_count": 102,
   "id": "legitimate-eight",
   "metadata": {},
   "outputs": [
    {
     "data": {
      "text/plain": [
       "['USA', 'UK', 'China', 'Brazil', 'Maxico', 'Australia', 'Spain', 'Italy']"
      ]
     },
     "execution_count": 102,
     "metadata": {},
     "output_type": "execute_result"
    }
   ],
   "source": [
    "country_list_final = country_list_1 + country_list_2\n",
    "country_list_final"
   ]
  },
  {
   "cell_type": "code",
   "execution_count": 103,
   "id": "directed-crash",
   "metadata": {},
   "outputs": [],
   "source": [
    "first_name = 'George'\n",
    "last_name = 'Washington'       #Create string"
   ]
  },
  {
   "cell_type": "code",
   "execution_count": 104,
   "id": "hybrid-tampa",
   "metadata": {},
   "outputs": [
    {
     "data": {
      "text/plain": [
       "'George Washington'"
      ]
     },
     "execution_count": 104,
     "metadata": {},
     "output_type": "execute_result"
    }
   ],
   "source": [
    "full_name = first_name+' '+last_name      #Concatenate strings\n",
    "full_name"
   ]
  },
  {
   "cell_type": "markdown",
   "id": "female-newsletter",
   "metadata": {},
   "source": [
    "### Basic Operator: *\n",
    "\n",
    "The _multiplication_ operator produces a new tuple, list, or string that repeats the original content.\n",
    "\n",
    "The * operator does not actually multiply the values; it only repeats the values for the specified number of times."
   ]
  },
  {
   "cell_type": "code",
   "execution_count": 105,
   "id": "sharp-discussion",
   "metadata": {},
   "outputs": [
    {
     "data": {
      "text/plain": [
       "(12, 17, 9, 12, 17, 9, 12, 17, 9)"
      ]
     },
     "execution_count": 105,
     "metadata": {},
     "output_type": "execute_result"
    }
   ],
   "source": [
    "age = (12,17,9)*3    #* operator with tuple\n",
    "age"
   ]
  },
  {
   "cell_type": "code",
   "execution_count": 106,
   "id": "arranged-contact",
   "metadata": {},
   "outputs": [
    {
     "data": {
      "text/plain": [
       "[101, 23, 77, 45, 101, 23, 77, 45]"
      ]
     },
     "execution_count": 106,
     "metadata": {},
     "output_type": "execute_result"
    }
   ],
   "source": [
    "ID = [101,23,77,45]*2       #* operator with list\n",
    "ID"
   ]
  },
  {
   "cell_type": "code",
   "execution_count": 107,
   "id": "fifteen-hobby",
   "metadata": {},
   "outputs": [
    {
     "data": {
      "text/plain": [
       "'friendfriendfriend'"
      ]
     },
     "execution_count": 107,
     "metadata": {},
     "output_type": "execute_result"
    }
   ],
   "source": [
    "name = 'friend'*3         #* operator with string\n",
    "name"
   ]
  },
  {
   "cell_type": "markdown",
   "id": "split-batman",
   "metadata": {},
   "source": [
    "# Functions:\n",
    "### Considerations"
   ]
  },
  {
   "cell_type": "code",
   "execution_count": 108,
   "id": "hydraulic-albania",
   "metadata": {},
   "outputs": [
    {
     "name": "stdout",
     "output_type": "stream",
     "text": [
      "Jack\n"
     ]
    }
   ],
   "source": [
    "def my_fisr_function(name):\n",
    "    return name\n",
    "print(my_fisr_function('Jack'))"
   ]
  },
  {
   "cell_type": "markdown",
   "id": "informative-salmon",
   "metadata": {},
   "source": [
    "### Functions: Returning Values\n",
    "\n",
    "can use a function to return a single value or multiple values."
   ]
  },
  {
   "cell_type": "code",
   "execution_count": 111,
   "id": "level-christianity",
   "metadata": {},
   "outputs": [
    {
     "data": {
      "text/plain": [
       "70.5"
      ]
     },
     "execution_count": 111,
     "metadata": {},
     "output_type": "execute_result"
    }
   ],
   "source": [
    "def add_two_numbers(num1, num2):         #Create function\n",
    "    return num1+num2\n",
    "number1 = 23\n",
    "number2 = 47.5\n",
    "result = add_two_numbers(number1,number2)       #Call function\n",
    "result"
   ]
  },
  {
   "cell_type": "code",
   "execution_count": 113,
   "id": "dietary-catalyst",
   "metadata": {},
   "outputs": [],
   "source": [
    "def profile():         #Create function\n",
    "    age = 21\n",
    "    height = 5.5\n",
    "    weight = 130\n",
    "    return age,height,weight       #Multiple return\n",
    "age,height,weight = profile()      #Call function"
   ]
  },
  {
   "cell_type": "code",
   "execution_count": 114,
   "id": "resistant-module",
   "metadata": {},
   "outputs": [
    {
     "name": "stdout",
     "output_type": "stream",
     "text": [
      "21 5.5 130\n"
     ]
    }
   ],
   "source": [
    "print(age,height,weight)"
   ]
  },
  {
   "cell_type": "markdown",
   "id": "killing-production",
   "metadata": {},
   "source": [
    "### Built-in Sequence Functions: _enumerate_"
   ]
  },
  {
   "cell_type": "code",
   "execution_count": 115,
   "id": "listed-finish",
   "metadata": {},
   "outputs": [],
   "source": [
    "store_list = ['McDonnald','Taco Bell','Dunkin','Wendys','Chipotle']     #List of food stores"
   ]
  },
  {
   "cell_type": "code",
   "execution_count": 116,
   "id": "going-efficiency",
   "metadata": {},
   "outputs": [
    {
     "name": "stdout",
     "output_type": "stream",
     "text": [
      "0 McDonnald\n",
      "1 Taco Bell\n",
      "2 Dunkin\n",
      "3 Wendys\n",
      "4 Chipotle\n"
     ]
    }
   ],
   "source": [
    "for position,name in enumerate(store_list):\n",
    "    print(position, name)     #Print data element and index using enumerate method"
   ]
  },
  {
   "cell_type": "code",
   "execution_count": 117,
   "id": "activated-isolation",
   "metadata": {},
   "outputs": [],
   "source": [
    "store_map = dict((name,position) for position,name in enumerate(store_list))\n",
    "#Create a data element and index map using dict"
   ]
  },
  {
   "cell_type": "code",
   "execution_count": 118,
   "id": "distinct-fireplace",
   "metadata": {},
   "outputs": [
    {
     "data": {
      "text/plain": [
       "{'McDonnald': 0, 'Taco Bell': 1, 'Dunkin': 2, 'Wendys': 3, 'Chipotle': 4}"
      ]
     },
     "execution_count": 118,
     "metadata": {},
     "output_type": "execute_result"
    }
   ],
   "source": [
    "store_map     #View the store map in the form of key-value pair"
   ]
  },
  {
   "cell_type": "markdown",
   "id": "hidden-bahrain",
   "metadata": {},
   "source": [
    "### Built-in Sequence Functions: _sorted_"
   ]
  },
  {
   "cell_type": "code",
   "execution_count": 119,
   "id": "affected-parent",
   "metadata": {},
   "outputs": [
    {
     "data": {
      "text/plain": [
       "[7, 21, 33, 43, 56, 65, 91]"
      ]
     },
     "execution_count": 119,
     "metadata": {},
     "output_type": "execute_result"
    }
   ],
   "source": [
    "sorted([91,43,65,56,7,33,21])     #Sort numbers"
   ]
  },
  {
   "cell_type": "code",
   "execution_count": 120,
   "id": "imperial-narrative",
   "metadata": {},
   "outputs": [
    {
     "data": {
      "text/plain": [
       "[' ',\n",
       " ' ',\n",
       " 'a',\n",
       " 'a',\n",
       " 'c',\n",
       " 'c',\n",
       " 'd',\n",
       " 'e',\n",
       " 'e',\n",
       " 'e',\n",
       " 'h',\n",
       " 'i',\n",
       " 'n',\n",
       " 's',\n",
       " 't',\n",
       " 't']"
      ]
     },
     "execution_count": 120,
     "metadata": {},
     "output_type": "execute_result"
    }
   ],
   "source": [
    "sorted('the data science')      #SOrt a string value"
   ]
  },
  {
   "cell_type": "markdown",
   "id": "banner-production",
   "metadata": {},
   "source": [
    "### Built-in Sequence Functions: _reversed and zip_"
   ]
  },
  {
   "cell_type": "code",
   "execution_count": 128,
   "id": "industrial-split",
   "metadata": {},
   "outputs": [],
   "source": [
    "num_list = range(15)       #Create a list of numbers for range 15"
   ]
  },
  {
   "cell_type": "code",
   "execution_count": 129,
   "id": "first-execution",
   "metadata": {},
   "outputs": [
    {
     "data": {
      "text/plain": [
       "[14, 13, 12, 11, 10, 9, 8, 7, 6, 5, 4, 3, 2, 1, 0]"
      ]
     },
     "execution_count": 129,
     "metadata": {},
     "output_type": "execute_result"
    }
   ],
   "source": [
    "list(reversed(num_list))      #Use reversed function to reverse the order"
   ]
  },
  {
   "cell_type": "code",
   "execution_count": 130,
   "id": "adaptive-petersburg",
   "metadata": {},
   "outputs": [],
   "source": [
    "subjects = ['Math','Statistics','Algebra']   #Zip function to pair the data elements of lists\n",
    "subject_count = ['one','two','three']"
   ]
  },
  {
   "cell_type": "code",
   "execution_count": 133,
   "id": "dramatic-buffalo",
   "metadata": {},
   "outputs": [
    {
     "name": "stdout",
     "output_type": "stream",
     "text": [
      "<zip object at 0x000001562BEEDC48>\n"
     ]
    }
   ],
   "source": [
    "total_subject = zip(subjects,subject_count)\n",
    "print(total_subject)"
   ]
  },
  {
   "cell_type": "markdown",
   "id": "affected-adrian",
   "metadata": {},
   "source": [
    "## Control Flow Statements: _if, elif, else_\n",
    "\n",
    "The if, elif, and else statements are the most commonly used control flow statements."
   ]
  },
  {
   "cell_type": "code",
   "execution_count": 134,
   "id": "sixth-booking",
   "metadata": {},
   "outputs": [],
   "source": [
    "age = 21"
   ]
  },
  {
   "cell_type": "code",
   "execution_count": 135,
   "id": "fossil-annotation",
   "metadata": {},
   "outputs": [
    {
     "name": "stdout",
     "output_type": "stream",
     "text": [
      "Adult\n"
     ]
    }
   ],
   "source": [
    "if age<18:\n",
    "    print('Minor')\n",
    "else:\n",
    "    print('Adult')"
   ]
  },
  {
   "cell_type": "code",
   "execution_count": 136,
   "id": "noble-myanmar",
   "metadata": {},
   "outputs": [],
   "source": [
    "marks = 81"
   ]
  },
  {
   "cell_type": "code",
   "execution_count": 137,
   "id": "registered-eleven",
   "metadata": {},
   "outputs": [
    {
     "name": "stdout",
     "output_type": "stream",
     "text": [
      "Grade B\n"
     ]
    }
   ],
   "source": [
    "#Nested if,elif, and else\n",
    "\n",
    "if marks>90:\n",
    "    print('Grade A')\n",
    "elif 80<=marks<=90:\n",
    "    print('Grade B')\n",
    "elif 70<=marks<=80:\n",
    "    print('Grade C')\n",
    "elif 60<=marks<=70:\n",
    "    print('Geade D')\n",
    "else:\n",
    "    print('Grade F')"
   ]
  },
  {
   "cell_type": "markdown",
   "id": "local-arthur",
   "metadata": {},
   "source": [
    "### Control Flow Statements : _for Loops_\n",
    "\n",
    "A _for loop_ is used to iterate over a collection (like a list or tuple) or an iterator."
   ]
  },
  {
   "cell_type": "code",
   "execution_count": 138,
   "id": "official-lender",
   "metadata": {},
   "outputs": [],
   "source": [
    "stock_tickers = ['AAPL','MSFT','GOOGL',None,'AMZN','CSCO','ORCL']"
   ]
  },
  {
   "cell_type": "code",
   "execution_count": 152,
   "id": "julian-classification",
   "metadata": {},
   "outputs": [
    {
     "name": "stdout",
     "output_type": "stream",
     "text": [
      "AAPL\n",
      "MSFT\n",
      "GOOGL\n",
      "AMZN\n",
      "CSCO\n",
      "ORCL\n"
     ]
    }
   ],
   "source": [
    "for tickers in (stock_tickers):\n",
    "    if(tickers is None):\n",
    "        continue\n",
    "    print(tickers)"
   ]
  },
  {
   "cell_type": "code",
   "execution_count": 149,
   "id": "distinguished-binary",
   "metadata": {},
   "outputs": [
    {
     "name": "stdout",
     "output_type": "stream",
     "text": [
      "AAPL\n",
      "MSFT\n",
      "GOOGL\n"
     ]
    }
   ],
   "source": [
    "for tickers in (stock_tickers):\n",
    "    if(tickers is None):\n",
    "        break\n",
    "    print(tickers)"
   ]
  },
  {
   "cell_type": "markdown",
   "id": "adequate-rhythm",
   "metadata": {},
   "source": [
    "### Control Flow Statements : _while Loops_\n",
    "\n",
    "A _while loop_ specifies a condition and a block of code that is to be executed until the condition evaluates to False or the loop is explicitly ended with break."
   ]
  },
  {
   "cell_type": "code",
   "execution_count": 151,
   "id": "greater-arizona",
   "metadata": {},
   "outputs": [
    {
     "name": "stdout",
     "output_type": "stream",
     "text": [
      "100\n",
      "99\n",
      "98\n",
      "97\n",
      "96\n"
     ]
    }
   ],
   "source": [
    "temperature = 100\n",
    "while temperature > 95:\n",
    "    print(temperature)\n",
    "    temperature = temperature - 1"
   ]
  },
  {
   "cell_type": "markdown",
   "id": "theoretical-national",
   "metadata": {},
   "source": [
    "### Control Flow Statements : _Exception Handling_\n",
    "\n",
    "Handling Python errors or exceptions gracefully is an important part of building robust programs and algorithms."
   ]
  },
  {
   "cell_type": "code",
   "execution_count": 153,
   "id": "bridal-duncan",
   "metadata": {},
   "outputs": [],
   "source": [
    "#Create function\n",
    "\n",
    "def test_float(number):\n",
    "    return float(number)"
   ]
  },
  {
   "cell_type": "code",
   "execution_count": 154,
   "id": "heavy-emergency",
   "metadata": {},
   "outputs": [
    {
     "data": {
      "text/plain": [
       "7.32453"
      ]
     },
     "execution_count": 154,
     "metadata": {},
     "output_type": "execute_result"
    }
   ],
   "source": [
    "test_float(7.32453)"
   ]
  },
  {
   "cell_type": "code",
   "execution_count": 155,
   "id": "biblical-canadian",
   "metadata": {},
   "outputs": [
    {
     "ename": "ValueError",
     "evalue": "could not convert string to float: 'test float'",
     "output_type": "error",
     "traceback": [
      "\u001b[1;31m---------------------------------------------------------------------------\u001b[0m",
      "\u001b[1;31mValueError\u001b[0m                                Traceback (most recent call last)",
      "\u001b[1;32m<ipython-input-155-4071a0b6ee8b>\u001b[0m in \u001b[0;36m<module>\u001b[1;34m\u001b[0m\n\u001b[1;32m----> 1\u001b[1;33m \u001b[0mtest_float\u001b[0m\u001b[1;33m(\u001b[0m\u001b[1;34m'test float'\u001b[0m\u001b[1;33m)\u001b[0m\u001b[1;33m\u001b[0m\u001b[1;33m\u001b[0m\u001b[0m\n\u001b[0m",
      "\u001b[1;32m<ipython-input-153-41eb15ad57eb>\u001b[0m in \u001b[0;36mtest_float\u001b[1;34m(number)\u001b[0m\n\u001b[0;32m      2\u001b[0m \u001b[1;33m\u001b[0m\u001b[0m\n\u001b[0;32m      3\u001b[0m \u001b[1;32mdef\u001b[0m \u001b[0mtest_float\u001b[0m\u001b[1;33m(\u001b[0m\u001b[0mnumber\u001b[0m\u001b[1;33m)\u001b[0m\u001b[1;33m:\u001b[0m\u001b[1;33m\u001b[0m\u001b[1;33m\u001b[0m\u001b[0m\n\u001b[1;32m----> 4\u001b[1;33m     \u001b[1;32mreturn\u001b[0m \u001b[0mfloat\u001b[0m\u001b[1;33m(\u001b[0m\u001b[0mnumber\u001b[0m\u001b[1;33m)\u001b[0m\u001b[1;33m\u001b[0m\u001b[1;33m\u001b[0m\u001b[0m\n\u001b[0m",
      "\u001b[1;31mValueError\u001b[0m: could not convert string to float: 'test float'"
     ]
    }
   ],
   "source": [
    "test_float('test float')     #Pass wrong argument type"
   ]
  },
  {
   "cell_type": "code",
   "execution_count": 156,
   "id": "champion-preservation",
   "metadata": {},
   "outputs": [],
   "source": [
    "#Exception handling with try–except block\n",
    "\n",
    "def test_float(number):\n",
    "    try:\n",
    "        return float(number)\n",
    "    except ValueError:\n",
    "        return 'not a number, the input value is',number"
   ]
  },
  {
   "cell_type": "code",
   "execution_count": 157,
   "id": "retained-collection",
   "metadata": {},
   "outputs": [
    {
     "data": {
      "text/plain": [
       "('not a number, the input value is', 'test')"
      ]
     },
     "execution_count": 157,
     "metadata": {},
     "output_type": "execute_result"
    }
   ],
   "source": [
    "test_float('test')"
   ]
  },
  {
   "cell_type": "code",
   "execution_count": null,
   "id": "strange-principle",
   "metadata": {},
   "outputs": [],
   "source": []
  }
 ],
 "metadata": {
  "kernelspec": {
   "display_name": "Python 3",
   "language": "python",
   "name": "python3"
  },
  "language_info": {
   "codemirror_mode": {
    "name": "ipython",
    "version": 3
   },
   "file_extension": ".py",
   "mimetype": "text/x-python",
   "name": "python",
   "nbconvert_exporter": "python",
   "pygments_lexer": "ipython3",
   "version": "3.7.10"
  }
 },
 "nbformat": 4,
 "nbformat_minor": 5
}
