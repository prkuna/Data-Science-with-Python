{
 "cells": [
  {
   "cell_type": "markdown",
   "id": "revolutionary-planner",
   "metadata": {},
   "source": [
    "# [NumPy](https://numpy.org/)"
   ]
  },
  {
   "cell_type": "markdown",
   "id": "published-abuse",
   "metadata": {},
   "source": [
    "NumPy is the foundational package for mathematical computing in Python.\n",
    "- Supports fast and efficient multidimensional arrays (ndarray)\n",
    "- Executes element-wise computations and mathematical calculations\n",
    "- Performs linear algebraic operations, Fourier transforms, and random number generation\n",
    "- Tools for reading/writing array based datasets to disk\n",
    "- Efficient way of storing and manipulating data\n",
    "- Tools for integrating language codes (C, C++)\n",
    "\n",
    "Numerical Python (NumPy) supports multidimensional arrays over which you can easily apply mathematical operations."
   ]
  },
  {
   "cell_type": "code",
   "execution_count": 1,
   "id": "thousand-thumbnail",
   "metadata": {},
   "outputs": [],
   "source": [
    "distance = [10,15,17,26]\n",
    "time = [.30,.47,.55,1.20]"
   ]
  },
  {
   "cell_type": "markdown",
   "id": "central-palace",
   "metadata": {},
   "source": [
    "To performe mathematial operations, first need to import the [NumPy](https://numpy.org/) library"
   ]
  },
  {
   "cell_type": "code",
   "execution_count": 2,
   "id": "changing-functionality",
   "metadata": {},
   "outputs": [],
   "source": [
    "import numpy as np"
   ]
  },
  {
   "cell_type": "code",
   "execution_count": 3,
   "id": "prerequisite-rating",
   "metadata": {},
   "outputs": [],
   "source": [
    "np_distance = np.array(distance)   #Converting the \"distance,time\" list to NumPy arrays\n",
    "np_time = np.array(time)\n",
    "speed = np_distance/np_time    #Mathematical function applied over the entire “distance” and “time” arrays"
   ]
  },
  {
   "cell_type": "code",
   "execution_count": 4,
   "id": "identical-leeds",
   "metadata": {},
   "outputs": [
    {
     "data": {
      "text/plain": [
       "array([33.33333333, 31.91489362, 30.90909091, 21.66666667])"
      ]
     },
     "execution_count": 4,
     "metadata": {},
     "output_type": "execute_result"
    }
   ],
   "source": [
    "speed"
   ]
  },
  {
   "cell_type": "markdown",
   "id": "digital-register",
   "metadata": {},
   "source": [
    "### Properties of ndarray\n",
    "\n",
    "- Collection of values\n",
    "- Add, remove, change\n",
    "- Single type (homogeneous)\n",
    "- Multidimensional\n",
    "- Mathematical function support\n",
    "- Fast and efficient\n",
    "\n",
    "### Purpose of ndarray\n",
    "The ndarray in Python is used as the primary container to exchange data between algorithms."
   ]
  },
  {
   "cell_type": "markdown",
   "id": "secret-sacrifice",
   "metadata": {},
   "source": [
    "###### Classes and Attributes of ndarray: .ndim\n",
    "The array **np_city** is one-dimensional, while the array **np_city_with_state** is two-dimensional."
   ]
  },
  {
   "cell_type": "code",
   "execution_count": 5,
   "id": "basic-manner",
   "metadata": {},
   "outputs": [],
   "source": [
    "np_city = np.array(['NYC','LA','Miami','Houston'])"
   ]
  },
  {
   "cell_type": "code",
   "execution_count": 6,
   "id": "hydraulic-publisher",
   "metadata": {},
   "outputs": [
    {
     "data": {
      "text/plain": [
       "1"
      ]
     },
     "execution_count": 6,
     "metadata": {},
     "output_type": "execute_result"
    }
   ],
   "source": [
    "np_city.ndim"
   ]
  },
  {
   "cell_type": "code",
   "execution_count": 7,
   "id": "experienced-arizona",
   "metadata": {},
   "outputs": [],
   "source": [
    "np_city_with_state = np.array([['NYC','LA','Miami','Houston'],['NY','CA','FL','TX']])"
   ]
  },
  {
   "cell_type": "code",
   "execution_count": 8,
   "id": "ultimate-shoulder",
   "metadata": {},
   "outputs": [
    {
     "data": {
      "text/plain": [
       "2"
      ]
     },
     "execution_count": 8,
     "metadata": {},
     "output_type": "execute_result"
    }
   ],
   "source": [
    "np_city_with_state.ndim"
   ]
  },
  {
   "cell_type": "markdown",
   "id": "unique-personality",
   "metadata": {},
   "source": [
    "##### Classes and Attributes of ndarray: .shape\n",
    "Numpy’s array class is **ndarray**, also referred to as **numpy.ndarray**."
   ]
  },
  {
   "cell_type": "code",
   "execution_count": 9,
   "id": "published-chicken",
   "metadata": {},
   "outputs": [],
   "source": [
    "#The shape tuple of both the arrays indicate their size along each dimension."
   ]
  },
  {
   "cell_type": "code",
   "execution_count": 10,
   "id": "fantastic-injury",
   "metadata": {},
   "outputs": [],
   "source": [
    "np_city = np.array(['NYC','LA','Miami','Houston'])"
   ]
  },
  {
   "cell_type": "code",
   "execution_count": 11,
   "id": "consistent-validation",
   "metadata": {},
   "outputs": [],
   "source": [
    "np_city_with_state = np.array([['NYC','LA','Miami','Houston'],['NY','CA','FL','TX']])"
   ]
  },
  {
   "cell_type": "code",
   "execution_count": 12,
   "id": "large-islam",
   "metadata": {},
   "outputs": [
    {
     "data": {
      "text/plain": [
       "(4,)"
      ]
     },
     "execution_count": 12,
     "metadata": {},
     "output_type": "execute_result"
    }
   ],
   "source": [
    "np_city.shape"
   ]
  },
  {
   "cell_type": "code",
   "execution_count": 13,
   "id": "funded-earth",
   "metadata": {},
   "outputs": [
    {
     "data": {
      "text/plain": [
       "(2, 4)"
      ]
     },
     "execution_count": 13,
     "metadata": {},
     "output_type": "execute_result"
    }
   ],
   "source": [
    "np_city_with_state.shape"
   ]
  },
  {
   "cell_type": "markdown",
   "id": "simple-background",
   "metadata": {},
   "source": [
    "##### Classes and Attributes of ndarray: .size\n",
    "Numpy’s array class is **ndarray**, also referred to as **numpy.ndarray**."
   ]
  },
  {
   "cell_type": "code",
   "execution_count": 14,
   "id": "violent-frost",
   "metadata": {},
   "outputs": [
    {
     "data": {
      "text/plain": [
       "4"
      ]
     },
     "execution_count": 14,
     "metadata": {},
     "output_type": "execute_result"
    }
   ],
   "source": [
    "np_city.size"
   ]
  },
  {
   "cell_type": "code",
   "execution_count": 15,
   "id": "foreign-devil",
   "metadata": {},
   "outputs": [
    {
     "data": {
      "text/plain": [
       "8"
      ]
     },
     "execution_count": 15,
     "metadata": {},
     "output_type": "execute_result"
    }
   ],
   "source": [
    "np_city_with_state.size"
   ]
  },
  {
   "cell_type": "markdown",
   "id": "increased-bumper",
   "metadata": {},
   "source": [
    "##### Classes and Attributes of ndarray: .dtype\n",
    "Numpy’s array class is **ndarray**, also referred to as **numpy.ndarray**."
   ]
  },
  {
   "cell_type": "code",
   "execution_count": 16,
   "id": "departmental-logging",
   "metadata": {},
   "outputs": [
    {
     "data": {
      "text/plain": [
       "array(['NYC', 'LA', 'Miami', 'Houston'], dtype='<U7')"
      ]
     },
     "execution_count": 16,
     "metadata": {},
     "output_type": "execute_result"
    }
   ],
   "source": [
    "np_city"
   ]
  },
  {
   "cell_type": "code",
   "execution_count": 17,
   "id": "several-feedback",
   "metadata": {},
   "outputs": [
    {
     "data": {
      "text/plain": [
       "array([['NYC', 'LA', 'Miami', 'Houston'],\n",
       "       ['NY', 'CA', 'FL', 'TX']], dtype='<U7')"
      ]
     },
     "execution_count": 17,
     "metadata": {},
     "output_type": "execute_result"
    }
   ],
   "source": [
    "np_city_with_state"
   ]
  },
  {
   "cell_type": "code",
   "execution_count": 18,
   "id": "nearby-davis",
   "metadata": {},
   "outputs": [
    {
     "data": {
      "text/plain": [
       "dtype('<U7')"
      ]
     },
     "execution_count": 18,
     "metadata": {},
     "output_type": "execute_result"
    }
   ],
   "source": [
    "np_city_with_state.dtype"
   ]
  },
  {
   "cell_type": "markdown",
   "id": "tired-cookbook",
   "metadata": {},
   "source": [
    "## Basic Operations\n",
    "\n",
    "NumPy uses the indices of the elements in each array to carry out basic operations. In this case, where we are looking at a dataset of four cyclists during two trials, vector addition of the arrays gives the required output."
   ]
  },
  {
   "cell_type": "markdown",
   "id": "appreciated-preparation",
   "metadata": {},
   "source": [
    "### Example"
   ]
  },
  {
   "cell_type": "code",
   "execution_count": 19,
   "id": "exciting-microwave",
   "metadata": {},
   "outputs": [],
   "source": [
    "first_trial_cyclist = [10,15,17,26]"
   ]
  },
  {
   "cell_type": "code",
   "execution_count": 20,
   "id": "imported-ireland",
   "metadata": {},
   "outputs": [],
   "source": [
    "second_trial_cyclist = [12,11,21,24]"
   ]
  },
  {
   "cell_type": "code",
   "execution_count": 21,
   "id": "assumed-albert",
   "metadata": {},
   "outputs": [],
   "source": [
    "np_first_trial_cyclist = np.array(first_trial_cyclist)"
   ]
  },
  {
   "cell_type": "code",
   "execution_count": 22,
   "id": "extra-roberts",
   "metadata": {},
   "outputs": [],
   "source": [
    "np_second_trial_cyclist = np.array(second_trial_cyclist)"
   ]
  },
  {
   "cell_type": "code",
   "execution_count": 23,
   "id": "shaped-kidney",
   "metadata": {},
   "outputs": [
    {
     "data": {
      "text/plain": [
       "array([22, 26, 38, 50])"
      ]
     },
     "execution_count": 23,
     "metadata": {},
     "output_type": "execute_result"
    }
   ],
   "source": [
    "#Total Distance\n",
    "\n",
    "np_first_trial_cyclist + np_second_trial_cyclist"
   ]
  },
  {
   "cell_type": "markdown",
   "id": "subjective-strike",
   "metadata": {},
   "source": [
    "### Accessing Array Elements: Indexing\n",
    "can access an entire row of an array by referencing its axis index."
   ]
  },
  {
   "cell_type": "code",
   "execution_count": 24,
   "id": "attached-torture",
   "metadata": {},
   "outputs": [],
   "source": [
    "cyclist_trials = np.array([[10,15,17,26],[12,11,21,24]])"
   ]
  },
  {
   "cell_type": "code",
   "execution_count": 25,
   "id": "regulation-scenario",
   "metadata": {},
   "outputs": [],
   "source": [
    "first_trial = cyclist_trials[0]"
   ]
  },
  {
   "cell_type": "code",
   "execution_count": 26,
   "id": "proud-philadelphia",
   "metadata": {},
   "outputs": [
    {
     "data": {
      "text/plain": [
       "array([10, 15, 17, 26])"
      ]
     },
     "execution_count": 26,
     "metadata": {},
     "output_type": "execute_result"
    }
   ],
   "source": [
    "first_trial"
   ]
  },
  {
   "cell_type": "code",
   "execution_count": 27,
   "id": "direct-murder",
   "metadata": {},
   "outputs": [],
   "source": [
    "second_trial = cyclist_trials[1]"
   ]
  },
  {
   "cell_type": "code",
   "execution_count": 28,
   "id": "ready-evening",
   "metadata": {},
   "outputs": [
    {
     "data": {
      "text/plain": [
       "array([12, 11, 21, 24])"
      ]
     },
     "execution_count": 28,
     "metadata": {},
     "output_type": "execute_result"
    }
   ],
   "source": [
    "second_trial"
   ]
  },
  {
   "cell_type": "markdown",
   "id": "whole-external",
   "metadata": {},
   "source": [
    "### Accessing Array Elements: Indexing\n",
    "can refer the indices of the elements in an array to access them. You can also select a particular index of more than one axis at a time."
   ]
  },
  {
   "cell_type": "code",
   "execution_count": 29,
   "id": "abroad-unknown",
   "metadata": {},
   "outputs": [],
   "source": [
    "first_cyclist_firstTrial = cyclist_trials[0][0]"
   ]
  },
  {
   "cell_type": "code",
   "execution_count": 30,
   "id": "dressed-suspension",
   "metadata": {},
   "outputs": [
    {
     "data": {
      "text/plain": [
       "10"
      ]
     },
     "execution_count": 30,
     "metadata": {},
     "output_type": "execute_result"
    }
   ],
   "source": [
    "first_cyclist_firstTrial"
   ]
  },
  {
   "cell_type": "code",
   "execution_count": 31,
   "id": "representative-grounds",
   "metadata": {},
   "outputs": [],
   "source": [
    "first_cyclist_all_trials = cyclist_trials[:,0]\n",
    "\n",
    "#First cyclist: all trial data (Use : to select all the rows of an array)"
   ]
  },
  {
   "cell_type": "code",
   "execution_count": 32,
   "id": "graduate-minute",
   "metadata": {},
   "outputs": [
    {
     "data": {
      "text/plain": [
       "array([10, 12])"
      ]
     },
     "execution_count": 32,
     "metadata": {},
     "output_type": "execute_result"
    }
   ],
   "source": [
    "first_cyclist_all_trials"
   ]
  },
  {
   "cell_type": "markdown",
   "id": "reduced-department",
   "metadata": {},
   "source": [
    "### Accessing Array Elements: Slicing\n",
    "Use the slicing method to access a range of values within an array."
   ]
  },
  {
   "cell_type": "code",
   "execution_count": 33,
   "id": "electric-interim",
   "metadata": {},
   "outputs": [
    {
     "data": {
      "text/plain": [
       "(2, 4)"
      ]
     },
     "execution_count": 33,
     "metadata": {},
     "output_type": "execute_result"
    }
   ],
   "source": [
    "cyclist_trials.shape"
   ]
  },
  {
   "cell_type": "code",
   "execution_count": 34,
   "id": "maritime-economics",
   "metadata": {},
   "outputs": [],
   "source": [
    "two_cyclist_trial_data = cyclist_trials[:,1:3]\n",
    "\n",
    "#Slicing the array data [ : , 1 : 3]\n",
    "#where 1 is inclusive but 3 is not"
   ]
  },
  {
   "cell_type": "code",
   "execution_count": 35,
   "id": "weird-torture",
   "metadata": {},
   "outputs": [
    {
     "data": {
      "text/plain": [
       "array([[15, 17],\n",
       "       [11, 21]])"
      ]
     },
     "execution_count": 35,
     "metadata": {},
     "output_type": "execute_result"
    }
   ],
   "source": [
    "two_cyclist_trial_data"
   ]
  },
  {
   "cell_type": "markdown",
   "id": "employed-harvard",
   "metadata": {},
   "source": [
    "### Accessing Array Elements: Iteration\n",
    "Use the iteration method to go through each data element present in the dataset."
   ]
  },
  {
   "cell_type": "code",
   "execution_count": 36,
   "id": "reduced-librarian",
   "metadata": {},
   "outputs": [],
   "source": [
    "cyclist_trials = np.array([[10,15,17,26],[12,11,21,24]])"
   ]
  },
  {
   "cell_type": "code",
   "execution_count": 37,
   "id": "built-might",
   "metadata": {},
   "outputs": [],
   "source": [
    "two_cyclist_trial_data = cyclist_trials[:,1:3]"
   ]
  },
  {
   "cell_type": "code",
   "execution_count": 38,
   "id": "parental-first",
   "metadata": {},
   "outputs": [
    {
     "data": {
      "text/plain": [
       "array([[15, 17],\n",
       "       [11, 21]])"
      ]
     },
     "execution_count": 38,
     "metadata": {},
     "output_type": "execute_result"
    }
   ],
   "source": [
    "two_cyclist_trial_data"
   ]
  },
  {
   "cell_type": "code",
   "execution_count": 39,
   "id": "mysterious-evidence",
   "metadata": {},
   "outputs": [
    {
     "ename": "NameError",
     "evalue": "name 'iterate_cyclist_trial_data' is not defined",
     "output_type": "error",
     "traceback": [
      "\u001b[1;31m---------------------------------------------------------------------------\u001b[0m",
      "\u001b[1;31mNameError\u001b[0m                                 Traceback (most recent call last)",
      "\u001b[1;32m<ipython-input-39-ad225dfa77f6>\u001b[0m in \u001b[0;36m<module>\u001b[1;34m\u001b[0m\n\u001b[0;32m      1\u001b[0m \u001b[1;32mfor\u001b[0m \u001b[0miterate_cyclist_trials_data\u001b[0m \u001b[1;32min\u001b[0m \u001b[0mcyclist_trials\u001b[0m\u001b[1;33m:\u001b[0m\u001b[1;33m\u001b[0m\u001b[1;33m\u001b[0m\u001b[0m\n\u001b[1;32m----> 2\u001b[1;33m     \u001b[0mprint\u001b[0m \u001b[1;33m(\u001b[0m\u001b[0miterate_cyclist_trial_data\u001b[0m\u001b[1;33m)\u001b[0m\u001b[1;33m\u001b[0m\u001b[1;33m\u001b[0m\u001b[0m\n\u001b[0m\u001b[0;32m      3\u001b[0m \u001b[1;33m\u001b[0m\u001b[0m\n\u001b[0;32m      4\u001b[0m \u001b[1;31m#Iterate with for loop through entire dataset\u001b[0m\u001b[1;33m\u001b[0m\u001b[1;33m\u001b[0m\u001b[1;33m\u001b[0m\u001b[0m\n",
      "\u001b[1;31mNameError\u001b[0m: name 'iterate_cyclist_trial_data' is not defined"
     ]
    }
   ],
   "source": [
    "for iterate_cyclist_trials_data in cyclist_trials:\n",
    "    print (iterate_cyclist_trial_data)\n",
    "\n",
    "#Iterate with for loop through entire dataset"
   ]
  },
  {
   "cell_type": "code",
   "execution_count": 40,
   "id": "independent-boards",
   "metadata": {},
   "outputs": [
    {
     "name": "stdout",
     "output_type": "stream",
     "text": [
      "[15 17]\n",
      "[11 21]\n"
     ]
    }
   ],
   "source": [
    "for iterate_two_cyclist_trial_data in two_cyclist_trial_data:\n",
    "    print(iterate_two_cyclist_trial_data)\n",
    "    \n",
    "#Iterate with for loop through the two cyclist datasets"
   ]
  },
  {
   "cell_type": "markdown",
   "id": "material-ceramic",
   "metadata": {},
   "source": [
    "### Indexing with Boolean Arrays\n",
    "Here, the original dataset contains test scores of two students. You can use a Boolean array to choose only the scores that are above a given value."
   ]
  },
  {
   "cell_type": "code",
   "execution_count": 41,
   "id": "imperial-diamond",
   "metadata": {},
   "outputs": [],
   "source": [
    "test_scores = np.array([[83,71,57,63],[54,68,81,45]])"
   ]
  },
  {
   "cell_type": "code",
   "execution_count": 42,
   "id": "hired-quebec",
   "metadata": {},
   "outputs": [],
   "source": [
    "passing_score = test_scores > 60   #Setting the passing score"
   ]
  },
  {
   "cell_type": "code",
   "execution_count": 43,
   "id": "french-integral",
   "metadata": {},
   "outputs": [
    {
     "data": {
      "text/plain": [
       "array([[ True,  True, False,  True],\n",
       "       [False,  True,  True, False]])"
      ]
     },
     "execution_count": 43,
     "metadata": {},
     "output_type": "execute_result"
    }
   ],
   "source": [
    "passing_score"
   ]
  },
  {
   "cell_type": "code",
   "execution_count": 44,
   "id": "neural-physiology",
   "metadata": {},
   "outputs": [
    {
     "data": {
      "text/plain": [
       "array([83, 71, 63, 68, 81])"
      ]
     },
     "execution_count": 44,
     "metadata": {},
     "output_type": "execute_result"
    }
   ],
   "source": [
    "test_scores[passing_score]  #Send passing score as an argument to test scores object"
   ]
  },
  {
   "cell_type": "markdown",
   "id": "coordinated-kidney",
   "metadata": {},
   "source": [
    "## Copy and Views\n",
    "When working with arrays, data is copied into new arrays only in some cases."
   ]
  },
  {
   "cell_type": "markdown",
   "id": "catholic-characteristic",
   "metadata": {},
   "source": [
    "In this method, a variable is directly assigned the value of another variable. No new copy is made."
   ]
  },
  {
   "cell_type": "code",
   "execution_count": 45,
   "id": "noble-cooperation",
   "metadata": {},
   "outputs": [],
   "source": [
    "NYC_Borough = np.array(['Manhattan','Bronx','Brooklyn','Staten Iceland','Queens'])"
   ]
  },
  {
   "cell_type": "code",
   "execution_count": 46,
   "id": "fewer-reader",
   "metadata": {},
   "outputs": [
    {
     "data": {
      "text/plain": [
       "array(['Manhattan', 'Bronx', 'Brooklyn', 'Staten Iceland', 'Queens'],\n",
       "      dtype='<U14')"
      ]
     },
     "execution_count": 46,
     "metadata": {},
     "output_type": "execute_result"
    }
   ],
   "source": [
    "NYC_Borough        #Original dataset"
   ]
  },
  {
   "cell_type": "code",
   "execution_count": 47,
   "id": "dress-people",
   "metadata": {},
   "outputs": [],
   "source": [
    "Boroughs_in_NYC = NYC_Borough"
   ]
  },
  {
   "cell_type": "code",
   "execution_count": 48,
   "id": "statutory-whole",
   "metadata": {},
   "outputs": [
    {
     "data": {
      "text/plain": [
       "array(['Manhattan', 'Bronx', 'Brooklyn', 'Staten Iceland', 'Queens'],\n",
       "      dtype='<U14')"
      ]
     },
     "execution_count": 48,
     "metadata": {},
     "output_type": "execute_result"
    }
   ],
   "source": [
    "Boroughs_in_NYC      #Assigned dataset"
   ]
  },
  {
   "cell_type": "code",
   "execution_count": 49,
   "id": "graphic-clock",
   "metadata": {},
   "outputs": [
    {
     "data": {
      "text/plain": [
       "True"
      ]
     },
     "execution_count": 49,
     "metadata": {},
     "output_type": "execute_result"
    }
   ],
   "source": [
    "Boroughs_in_NYC is NYC_Borough     #Shows both objects are the same"
   ]
  },
  {
   "cell_type": "code",
   "execution_count": 50,
   "id": "fewer-shade",
   "metadata": {},
   "outputs": [
    {
     "data": {
      "text/plain": [
       "array(['Manhattan', 'Bronx', 'Brooklyn', 'Staten Iceland', 'Queens'],\n",
       "      dtype='<U14')"
      ]
     },
     "execution_count": 50,
     "metadata": {},
     "output_type": "execute_result"
    }
   ],
   "source": [
    "Boroughs_in_NYC"
   ]
  },
  {
   "cell_type": "code",
   "execution_count": 51,
   "id": "critical-renaissance",
   "metadata": {},
   "outputs": [],
   "source": [
    "View_of_Boroughs_in_NYC = Boroughs_in_NYC.view()"
   ]
  },
  {
   "cell_type": "code",
   "execution_count": 52,
   "id": "modern-export",
   "metadata": {},
   "outputs": [
    {
     "data": {
      "text/plain": [
       "5"
      ]
     },
     "execution_count": 52,
     "metadata": {},
     "output_type": "execute_result"
    }
   ],
   "source": [
    "len(View_of_Boroughs_in_NYC)"
   ]
  },
  {
   "cell_type": "code",
   "execution_count": 53,
   "id": "incident-tiffany",
   "metadata": {},
   "outputs": [],
   "source": [
    "View_of_Boroughs_in_NYC[4] = 'Central Park'     #Change value in view object"
   ]
  },
  {
   "cell_type": "code",
   "execution_count": 54,
   "id": "functional-thermal",
   "metadata": {},
   "outputs": [
    {
     "data": {
      "text/plain": [
       "array(['Manhattan', 'Bronx', 'Brooklyn', 'Staten Iceland', 'Central Park'],\n",
       "      dtype='<U14')"
      ]
     },
     "execution_count": 54,
     "metadata": {},
     "output_type": "execute_result"
    }
   ],
   "source": [
    "View_of_Boroughs_in_NYC"
   ]
  },
  {
   "cell_type": "code",
   "execution_count": 55,
   "id": "spread-dimension",
   "metadata": {},
   "outputs": [
    {
     "data": {
      "text/plain": [
       "array(['Manhattan', 'Bronx', 'Brooklyn', 'Staten Iceland', 'Central Park'],\n",
       "      dtype='<U14')"
      ]
     },
     "execution_count": 55,
     "metadata": {},
     "output_type": "execute_result"
    }
   ],
   "source": [
    "Boroughs_in_NYC          #Original dataset changed"
   ]
  },
  {
   "cell_type": "markdown",
   "id": "economic-wholesale",
   "metadata": {},
   "source": [
    "Copy is also called **deep copy** because it entirely copies the original dataset. Any change in the copy will not affect the original dataset."
   ]
  },
  {
   "cell_type": "code",
   "execution_count": 62,
   "id": "empirical-ownership",
   "metadata": {},
   "outputs": [],
   "source": [
    "NYC_Borough = np.array(['Manhattan','Bronx','Brooklyn','Staten Iceland','Queens'])"
   ]
  },
  {
   "cell_type": "code",
   "execution_count": 63,
   "id": "official-carrier",
   "metadata": {},
   "outputs": [],
   "source": [
    "Copy_of_NYC_Borough = NYC_Borough.copy()"
   ]
  },
  {
   "cell_type": "code",
   "execution_count": 64,
   "id": "broadband-basement",
   "metadata": {},
   "outputs": [
    {
     "data": {
      "text/plain": [
       "False"
      ]
     },
     "execution_count": 64,
     "metadata": {},
     "output_type": "execute_result"
    }
   ],
   "source": [
    "Copy_of_NYC_Borough is NYC_Borough    #Shows copy and original object are different"
   ]
  },
  {
   "cell_type": "code",
   "execution_count": 65,
   "id": "saved-academy",
   "metadata": {},
   "outputs": [
    {
     "data": {
      "text/plain": [
       "False"
      ]
     },
     "execution_count": 65,
     "metadata": {},
     "output_type": "execute_result"
    }
   ],
   "source": [
    "Copy_of_NYC_Borough.base is NYC_Borough    #Shows copy object data is not owned by the original dataset"
   ]
  },
  {
   "cell_type": "code",
   "execution_count": 66,
   "id": "exposed-douglas",
   "metadata": {},
   "outputs": [],
   "source": [
    "Copy_of_NYC_Borough[4] = 'Central Park'"
   ]
  },
  {
   "cell_type": "code",
   "execution_count": 67,
   "id": "attached-heavy",
   "metadata": {},
   "outputs": [
    {
     "data": {
      "text/plain": [
       "array(['Manhattan', 'Bronx', 'Brooklyn', 'Staten Iceland', 'Queens'],\n",
       "      dtype='<U14')"
      ]
     },
     "execution_count": 67,
     "metadata": {},
     "output_type": "execute_result"
    }
   ],
   "source": [
    "NYC_Borough     #Original dataset retained"
   ]
  },
  {
   "cell_type": "code",
   "execution_count": 68,
   "id": "rolled-times",
   "metadata": {},
   "outputs": [
    {
     "data": {
      "text/plain": [
       "array(['Manhattan', 'Bronx', 'Brooklyn', 'Staten Iceland', 'Central Park'],\n",
       "      dtype='<U14')"
      ]
     },
     "execution_count": 68,
     "metadata": {},
     "output_type": "execute_result"
    }
   ],
   "source": [
    "Copy_of_NYC_Borough     #Copy object changed"
   ]
  },
  {
   "cell_type": "markdown",
   "id": "superior-stress",
   "metadata": {},
   "source": [
    "## Universal Functions (ufunc)\n",
    "NumPy provides useful mathematical functions called Universal Functions. These functions operate element-wise on an array, producing another array as output.\n",
    "- sqrt\n",
    "- cos\n",
    "- exp\n",
    "- floor"
   ]
  },
  {
   "cell_type": "markdown",
   "id": "serial-buffalo",
   "metadata": {},
   "source": [
    "#### Example"
   ]
  },
  {
   "cell_type": "code",
   "execution_count": 69,
   "id": "aging-moscow",
   "metadata": {},
   "outputs": [],
   "source": [
    "np_sqrt = np.sqrt([2,4,9,16])   #Numbers for which square root will be calculated"
   ]
  },
  {
   "cell_type": "code",
   "execution_count": 70,
   "id": "sophisticated-communication",
   "metadata": {},
   "outputs": [
    {
     "data": {
      "text/plain": [
       "array([1.41421356, 2.        , 3.        , 4.        ])"
      ]
     },
     "execution_count": 70,
     "metadata": {},
     "output_type": "execute_result"
    }
   ],
   "source": [
    "np_sqrt     #Square root values"
   ]
  },
  {
   "cell_type": "code",
   "execution_count": 71,
   "id": "animated-arcade",
   "metadata": {},
   "outputs": [],
   "source": [
    "from numpy import pi    #Import pi"
   ]
  },
  {
   "cell_type": "code",
   "execution_count": 72,
   "id": "logical-house",
   "metadata": {},
   "outputs": [
    {
     "data": {
      "text/plain": [
       "1.0"
      ]
     },
     "execution_count": 72,
     "metadata": {},
     "output_type": "execute_result"
    }
   ],
   "source": [
    "np.cos(0)"
   ]
  },
  {
   "cell_type": "code",
   "execution_count": 73,
   "id": "beginning-ontario",
   "metadata": {},
   "outputs": [
    {
     "data": {
      "text/plain": [
       "1.0"
      ]
     },
     "execution_count": 73,
     "metadata": {},
     "output_type": "execute_result"
    }
   ],
   "source": [
    "np.sin(pi/2)"
   ]
  },
  {
   "cell_type": "code",
   "execution_count": 74,
   "id": "photographic-relations",
   "metadata": {},
   "outputs": [
    {
     "data": {
      "text/plain": [
       "-1.0"
      ]
     },
     "execution_count": 74,
     "metadata": {},
     "output_type": "execute_result"
    }
   ],
   "source": [
    "np.cos(pi)"
   ]
  },
  {
   "cell_type": "code",
   "execution_count": 75,
   "id": "signal-equality",
   "metadata": {},
   "outputs": [
    {
     "data": {
      "text/plain": [
       "array([ 1.,  1.,  2.,  3.,  1., -1., -2.])"
      ]
     },
     "execution_count": 75,
     "metadata": {},
     "output_type": "execute_result"
    }
   ],
   "source": [
    "np.floor([1.5,1.6,2.7,3.3,1.1,-0.3,-1.4])   #Return the floor of the input element wise"
   ]
  },
  {
   "cell_type": "code",
   "execution_count": 76,
   "id": "adapted-racing",
   "metadata": {},
   "outputs": [
    {
     "data": {
      "text/plain": [
       "array([  1.        ,   2.71828183, 148.4131591 ])"
      ]
     },
     "execution_count": 76,
     "metadata": {},
     "output_type": "execute_result"
    }
   ],
   "source": [
    "np.exp([0,1,5])    #Exponential functions for complex mathematical calculations"
   ]
  },
  {
   "cell_type": "markdown",
   "id": "statewide-sierra",
   "metadata": {},
   "source": [
    "## Shape Manipulation\n",
    "The shape of an array can be changed according to the requirement using the NumPy library functions.\n",
    "- Flatten\n",
    "- Resize\n",
    "- Reshape\n",
    "- Stack\n",
    "- Split"
   ]
  },
  {
   "cell_type": "markdown",
   "id": "soviet-isolation",
   "metadata": {},
   "source": [
    "#### Example"
   ]
  },
  {
   "cell_type": "code",
   "execution_count": 77,
   "id": "naked-sperm",
   "metadata": {},
   "outputs": [],
   "source": [
    "new_cyclist_trials = np.array([[10,15,17,26,13,19],[12,11,21,24,14,23]])"
   ]
  },
  {
   "cell_type": "code",
   "execution_count": 78,
   "id": "polish-sample",
   "metadata": {},
   "outputs": [
    {
     "data": {
      "text/plain": [
       "array([10, 15, 17, 26, 13, 19, 12, 11, 21, 24, 14, 23])"
      ]
     },
     "execution_count": 78,
     "metadata": {},
     "output_type": "execute_result"
    }
   ],
   "source": [
    "new_cyclist_trials.ravel()   #Flattens the dataset"
   ]
  },
  {
   "cell_type": "code",
   "execution_count": 79,
   "id": "frank-quest",
   "metadata": {},
   "outputs": [
    {
     "data": {
      "text/plain": [
       "array([[10, 15, 17, 26],\n",
       "       [13, 19, 12, 11],\n",
       "       [21, 24, 14, 23]])"
      ]
     },
     "execution_count": 79,
     "metadata": {},
     "output_type": "execute_result"
    }
   ],
   "source": [
    "new_cyclist_trials.reshape(3,4)   #Changes or reshapes the dataset to 3 rows and 4 columns"
   ]
  },
  {
   "cell_type": "code",
   "execution_count": 80,
   "id": "chinese-bosnia",
   "metadata": {},
   "outputs": [],
   "source": [
    "new_cyclist_trials.resize(2,6)   #Resizes again to 2 rows and 6 columns"
   ]
  },
  {
   "cell_type": "code",
   "execution_count": 81,
   "id": "deluxe-pavilion",
   "metadata": {},
   "outputs": [
    {
     "data": {
      "text/plain": [
       "array([[10, 15, 17, 26, 13, 19],\n",
       "       [12, 11, 21, 24, 14, 23]])"
      ]
     },
     "execution_count": 81,
     "metadata": {},
     "output_type": "execute_result"
    }
   ],
   "source": [
    "new_cyclist_trials"
   ]
  },
  {
   "cell_type": "code",
   "execution_count": 83,
   "id": "angry-coral",
   "metadata": {},
   "outputs": [
    {
     "data": {
      "text/plain": [
       "[array([[10, 15, 17],\n",
       "        [12, 11, 21]]),\n",
       " array([[26, 13, 19],\n",
       "        [24, 14, 23]])]"
      ]
     },
     "execution_count": 83,
     "metadata": {},
     "output_type": "execute_result"
    }
   ],
   "source": [
    "np.hsplit(new_cyclist_trials,2)     #Splits the array into two"
   ]
  },
  {
   "cell_type": "code",
   "execution_count": 84,
   "id": "automated-heritage",
   "metadata": {},
   "outputs": [],
   "source": [
    "new_cyclist_1 = np.array([10,15,17,26,13,19])"
   ]
  },
  {
   "cell_type": "code",
   "execution_count": 85,
   "id": "blind-interim",
   "metadata": {},
   "outputs": [],
   "source": [
    "new_cyclist_2 = np.array([12,11,21,24,14,23])"
   ]
  },
  {
   "cell_type": "code",
   "execution_count": 86,
   "id": "sonic-carter",
   "metadata": {},
   "outputs": [
    {
     "data": {
      "text/plain": [
       "array([10, 15, 17, 26, 13, 19, 12, 11, 21, 24, 14, 23])"
      ]
     },
     "execution_count": 86,
     "metadata": {},
     "output_type": "execute_result"
    }
   ],
   "source": [
    "np.hstack((new_cyclist_1,new_cyclist_2))    #Stacks the arrays together"
   ]
  },
  {
   "cell_type": "markdown",
   "id": "standing-essence",
   "metadata": {},
   "source": [
    "## Broadcasting\n",
    "NumPy uses broadcasting to carry out arithmetic operations between arrays of different shapes. In this method, NumPy automatically broadcasts the smaller array over the larger array."
   ]
  },
  {
   "cell_type": "code",
   "execution_count": 87,
   "id": "medieval-trash",
   "metadata": {},
   "outputs": [],
   "source": [
    "import numpy as np"
   ]
  },
  {
   "cell_type": "code",
   "execution_count": 88,
   "id": "seasonal-reproduction",
   "metadata": {},
   "outputs": [],
   "source": [
    "#create two arrays of the same shape\n",
    "\n",
    "array_a = np.array([2,3,5,8])\n",
    "array_b = np.array([.3,.3,.3,.3])"
   ]
  },
  {
   "cell_type": "code",
   "execution_count": 89,
   "id": "confident-developer",
   "metadata": {},
   "outputs": [
    {
     "data": {
      "text/plain": [
       "array([0.6, 0.9, 1.5, 2.4])"
      ]
     },
     "execution_count": 89,
     "metadata": {},
     "output_type": "execute_result"
    }
   ],
   "source": [
    "#Multiply arrays\n",
    "\n",
    "array_a * array_b"
   ]
  },
  {
   "cell_type": "code",
   "execution_count": 90,
   "id": "blank-handbook",
   "metadata": {},
   "outputs": [],
   "source": [
    "#Create a variable with a scalar value\n",
    "\n",
    "scalar_c = .3"
   ]
  },
  {
   "cell_type": "code",
   "execution_count": 92,
   "id": "classified-position",
   "metadata": {},
   "outputs": [
    {
     "data": {
      "text/plain": [
       "array([0.6, 0.9, 1.5, 2.4])"
      ]
     },
     "execution_count": 92,
     "metadata": {},
     "output_type": "execute_result"
    }
   ],
   "source": [
    "#Multiply with 1D array with a scalar value\n",
    "\n",
    "array_a * scalar_c"
   ]
  },
  {
   "cell_type": "markdown",
   "id": "floating-portugal",
   "metadata": {},
   "source": [
    "If the shape doesn’t match with array_a, numpy doesn’t have to create copies of scalar value. Instead, broadcast scalar value over the entire array to find the product."
   ]
  },
  {
   "cell_type": "markdown",
   "id": "intended-maker",
   "metadata": {},
   "source": [
    "#### Broadcasting: Constraints\n",
    "Though broadcasting can help carry out mathematical operations between different-shaped arrays, they are subject to certain constraints"
   ]
  },
  {
   "cell_type": "code",
   "execution_count": 93,
   "id": "israeli-riverside",
   "metadata": {},
   "outputs": [],
   "source": [
    "import numpy as np"
   ]
  },
  {
   "cell_type": "code",
   "execution_count": 94,
   "id": "dedicated-table",
   "metadata": {},
   "outputs": [],
   "source": [
    "#create two arrays of the same shape\n",
    "\n",
    "array_a = np.array([2,3,5,8])\n",
    "array_b = np.array([.3,.3,.3,.3])"
   ]
  },
  {
   "cell_type": "code",
   "execution_count": 95,
   "id": "angry-vietnamese",
   "metadata": {},
   "outputs": [
    {
     "data": {
      "text/plain": [
       "array([0.6, 0.9, 1.5, 2.4])"
      ]
     },
     "execution_count": 95,
     "metadata": {},
     "output_type": "execute_result"
    }
   ],
   "source": [
    "#Multiply arrays\n",
    "\n",
    "array_a * array_b"
   ]
  },
  {
   "cell_type": "code",
   "execution_count": 98,
   "id": "early-style",
   "metadata": {},
   "outputs": [],
   "source": [
    "#Create array of a different shape\n",
    "\n",
    "array_d = np.array([4,3])"
   ]
  },
  {
   "cell_type": "code",
   "execution_count": 99,
   "id": "tender-smart",
   "metadata": {},
   "outputs": [
    {
     "ename": "ValueError",
     "evalue": "operands could not be broadcast together with shapes (4,) (2,) ",
     "output_type": "error",
     "traceback": [
      "\u001b[1;31m---------------------------------------------------------------------------\u001b[0m",
      "\u001b[1;31mValueError\u001b[0m                                Traceback (most recent call last)",
      "\u001b[1;32m<ipython-input-99-7a89817209be>\u001b[0m in \u001b[0;36m<module>\u001b[1;34m\u001b[0m\n\u001b[1;32m----> 1\u001b[1;33m \u001b[0marray_a\u001b[0m \u001b[1;33m*\u001b[0m \u001b[0marray_d\u001b[0m\u001b[1;33m\u001b[0m\u001b[1;33m\u001b[0m\u001b[0m\n\u001b[0m",
      "\u001b[1;31mValueError\u001b[0m: operands could not be broadcast together with shapes (4,) (2,) "
     ]
    }
   ],
   "source": [
    "array_a * array_d"
   ]
  },
  {
   "cell_type": "markdown",
   "id": "finite-commerce",
   "metadata": {},
   "source": [
    "Let’s look at an example to see how broadcasting works to calculate the number of working hours of a worker per day in a certain week."
   ]
  },
  {
   "cell_type": "code",
   "execution_count": 100,
   "id": "corporate-registrar",
   "metadata": {},
   "outputs": [],
   "source": [
    "np_week_one = np.array([105,135,195,120,165])  #Week one earnings\n",
    "np_week_two = np.array([123,156,230,200,147])  #Week two earnings"
   ]
  },
  {
   "cell_type": "code",
   "execution_count": 101,
   "id": "cultural-holocaust",
   "metadata": {},
   "outputs": [],
   "source": [
    "total_earning = np_week_one + np_week_two"
   ]
  },
  {
   "cell_type": "code",
   "execution_count": 102,
   "id": "spread-mention",
   "metadata": {},
   "outputs": [
    {
     "data": {
      "text/plain": [
       "array([228, 291, 425, 320, 312])"
      ]
     },
     "execution_count": 102,
     "metadata": {},
     "output_type": "execute_result"
    }
   ],
   "source": [
    "total_earning"
   ]
  },
  {
   "cell_type": "code",
   "execution_count": 103,
   "id": "identical-saudi",
   "metadata": {},
   "outputs": [],
   "source": [
    "np_week_one_hrs = np_week_one/15   # Calculate week one hours, when Hourly wage is 15"
   ]
  },
  {
   "cell_type": "code",
   "execution_count": 104,
   "id": "distant-charter",
   "metadata": {},
   "outputs": [
    {
     "data": {
      "text/plain": [
       "array([ 7.,  9., 13.,  8., 11.])"
      ]
     },
     "execution_count": 104,
     "metadata": {},
     "output_type": "execute_result"
    }
   ],
   "source": [
    "np_week_one_hrs"
   ]
  },
  {
   "cell_type": "markdown",
   "id": "normal-nerve",
   "metadata": {},
   "source": [
    "### Linear Algebra: Transpose\n",
    "NumPy can carry out linear algebraic functions as well. The **transpose()** function can help you interchange rows as columns, and vice-versa."
   ]
  },
  {
   "cell_type": "code",
   "execution_count": 106,
   "id": "graphic-briefs",
   "metadata": {},
   "outputs": [],
   "source": [
    "test_scores = np.array([[83,71,57,63],[54,68,81,45]])"
   ]
  },
  {
   "cell_type": "code",
   "execution_count": 107,
   "id": "smart-movement",
   "metadata": {},
   "outputs": [
    {
     "data": {
      "text/plain": [
       "array([[83, 54],\n",
       "       [71, 68],\n",
       "       [57, 81],\n",
       "       [63, 45]])"
      ]
     },
     "execution_count": 107,
     "metadata": {},
     "output_type": "execute_result"
    }
   ],
   "source": [
    "test_scores.transpose()"
   ]
  },
  {
   "cell_type": "markdown",
   "id": "meaning-refund",
   "metadata": {},
   "source": [
    "### Linear Algebra: Inverse and Trace Functions\n",
    "Using NumPy, you can also find the inverse of an array and add its diagonal data elements. **np.linalg.inv()** | **np.trace()**"
   ]
  },
  {
   "cell_type": "code",
   "execution_count": 108,
   "id": "hawaiian-mobility",
   "metadata": {},
   "outputs": [],
   "source": [
    "inverse_array = np.array([[10,20],[15,25]])"
   ]
  },
  {
   "cell_type": "code",
   "execution_count": 109,
   "id": "going-phenomenon",
   "metadata": {},
   "outputs": [
    {
     "data": {
      "text/plain": [
       "array([[-0.5,  0.4],\n",
       "       [ 0.3, -0.2]])"
      ]
     },
     "execution_count": 109,
     "metadata": {},
     "output_type": "execute_result"
    }
   ],
   "source": [
    "np.linalg.inv(inverse_array)"
   ]
  },
  {
   "cell_type": "markdown",
   "id": "prostate-newport",
   "metadata": {},
   "source": [
    "* Can be applied **only** on a square matrix"
   ]
  },
  {
   "cell_type": "code",
   "execution_count": 110,
   "id": "narrow-homework",
   "metadata": {},
   "outputs": [],
   "source": [
    "trace_array = np.array([[10,20],[22,31]])"
   ]
  },
  {
   "cell_type": "code",
   "execution_count": 111,
   "id": "indian-palestine",
   "metadata": {},
   "outputs": [
    {
     "data": {
      "text/plain": [
       "41"
      ]
     },
     "execution_count": 111,
     "metadata": {},
     "output_type": "execute_result"
    }
   ],
   "source": [
    "np.trace(trace_array)      #Sum of diagonal elements 10 and 31"
   ]
  },
  {
   "cell_type": "code",
   "execution_count": null,
   "id": "isolated-jewelry",
   "metadata": {},
   "outputs": [],
   "source": []
  }
 ],
 "metadata": {
  "kernelspec": {
   "display_name": "Python 3",
   "language": "python",
   "name": "python3"
  },
  "language_info": {
   "codemirror_mode": {
    "name": "ipython",
    "version": 3
   },
   "file_extension": ".py",
   "mimetype": "text/x-python",
   "name": "python",
   "nbconvert_exporter": "python",
   "pygments_lexer": "ipython3",
   "version": "3.7.10"
  }
 },
 "nbformat": 4,
 "nbformat_minor": 5
}
